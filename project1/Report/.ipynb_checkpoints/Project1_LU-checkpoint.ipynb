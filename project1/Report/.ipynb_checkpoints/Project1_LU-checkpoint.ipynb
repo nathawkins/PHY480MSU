{
 "cells": [
  {
   "cell_type": "code",
   "execution_count": 13,
   "metadata": {
    "collapsed": false
   },
   "outputs": [
    {
     "name": "stdout",
     "output_type": "stream",
     "text": [
      "The LU decomposition takes a time of : 0.06267740700904141\n",
      "400\n",
      "100\n"
     ]
    },
    {
     "data": {
      "image/png": "[encoded data removed]",
      "text/plain": [
       "<matplotlib.figure.Figure at 0x2bf002310b8>"
      ]
     },
     "metadata": {},
     "output_type": "display_data"
    }
   ],
   "source": [
    "%matplotlib inline\n",
    "import scipy.linalg\n",
    "import numpy as np\n",
    "import math\n",
    "import time\n",
    "import matplotlib.pyplot as plt\n",
    "tim=[]\n",
    "patches = []\n",
    "colors = ['r', 'b', 'g', 'y']\n",
    "trials = 0\n",
    "for i in range(1,5):\n",
    "    patch = mpatches.Patch(color=colors[i-1], label=\"10^\" + str(i))\n",
    "    patches.append(patch)\n",
    "\n",
    "#function taken from http://stackoverflow.com/questions/5842903/block-tridiagonal-matrix-python\n",
    "def tridiag(a, b, c, k1=-1, k2=0, k3=1):\n",
    "    return np.diag(a, k1) + np.diag(b, k2) + np.diag(c, k3)\n",
    "def time_take():\n",
    "    lim=4\n",
    "    time_array = np.zeros(lim)\n",
    "    n_array = np.zeros(lim)\n",
    "\n",
    "    for i in range(1, lim):\n",
    "        #start time\n",
    "        n = 10 ** i\n",
    "        n_array[i-1] = (np.log10(n))\n",
    "        a = [-1] * (n-1)\n",
    "        b = [2] * n\n",
    "        c = [-1] * (n-1)\n",
    "        tic = time.clock()\n",
    "        A = tridiag(a, b, c)\n",
    "        B=scipy.linalg.lu(A)\n",
    "        toc=time.clock()\n",
    "        delta_t=toc-tic\n",
    "        if delta_t<.02:\n",
    "            continue\n",
    "        tim.append(delta_t)\n",
    "\n",
    "\n",
    "        #end time\n",
    "\n",
    "    #should take a min; plot still doesn't make sense\n",
    "    return B\n",
    "for i in range(0,100):\n",
    "    B=time_take()\n",
    "    trials +=4\n",
    "plt.scatter(np.arange(len(tim)),tim)\n",
    "\n",
    "plt.title(\"Time (s) vs. Trial\")\n",
    "plt.ylabel(\"Time (s)\")\n",
    "plt.xlabel(\"Trial\")\n",
    "plt.legend(handles=patches)\n",
    "print(\"The LU decomposition takes a time of :\", sum(tim)/len(tim))\n",
    "print(trials)\n",
    "print(len(tim))"
   ]
  },
  {
   "cell_type": "markdown",
   "metadata": {
    "collapsed": true
   },
   "source": [
    "To make this matrix, we actually took some code from online to initialize the tridiagonal matrix [here](http://stackoverflow.com/questions/5842903/block-tridiagonal-matrix-python). Basically what the code does is it doesn't make a matrix, as a nxn matrix would take a massive amount of memory, so it creates 3 arrays, which correspond to the 3 diagonals that have non-zero numbers within the tridagonal matrix. Much of the code is actually to create the matrix, and there is a module in numpy which actually does the LU-decomposition, so we didn't have to hard code the process in. But to see how long this process takes, we used the time.clock function from the time module and took the difference in times between the end of initializing the matrix and completing the LU-decomposition process. Then we ran the code 100 times and made a scatter plot of the time this took. We took the average time and found that to make a 1000x1000 matrix, it took an average of about .06 s to complete the code."
   ]
  },
  {
   "cell_type": "code",
   "execution_count": null,
   "metadata": {
    "collapsed": true
   },
   "outputs": [],
   "source": [
    "%matplotlib inline\n",
    "import scipy.linalg\n",
    "import numpy as np\n",
    "import math\n",
    "import time\n",
    "import matplotlib.pyplot as plt\n",
    "import matplotlib.patches as mpatches\n",
    "\n",
    "\n",
    "def tridiag(a, b, c, k1=-1, k2=0, k3=1):\n",
    "    #function taken from http://stackoverflow.com/questions/5842903/block-tridiagonal-matrix-python\n",
    "    return np.diag(a, k1) + np.diag(b, k2) + np.diag(c, k3)\n",
    "\n",
    "def plot(x, y):\n",
    "    pass\n",
    "\n",
    "def time_take(n):\n",
    "    #time_array = np.zeros(lim)\n",
    "    #n_array = np.zeros(lim)\n",
    "    a = [-1] * (n-1)\n",
    "    b = [2] * n\n",
    "    c = [-1] * (n-1)\n",
    "    tic = time.clock()\n",
    "    A = tridiag(a, b, c)\n",
    "    B=scipy.linalg.lu(A)\n",
    "    toc=time.clock()\n",
    "    delta_t=toc-tic\n",
    "    \n",
    "    return delta_t\n",
    "    #if delta_t<.02:\n",
    "    #    continue\n",
    "\n",
    "    #for i in range(1, lim):\n",
    "        #start time\n",
    "    #    n = 10 ** i\n",
    "    #    n_array[i-1] = (np.log10(n))\n",
    "        \n",
    "    #    tim.append(delta_t)\n",
    "        #end time\n",
    "\n",
    "    #should take a min; plot still doesn't make sense\n",
    "    ##plt.scatter(np.arange(len(tim)),tim)\n",
    "\n",
    "exp = 4\n",
    "trials = 1\n",
    "n_array = np.zeros(exp-1)\n",
    "time_array = np.zeros(exp-1)\n",
    "\n",
    "colors = ['r', 'b', 'g']\n",
    "patches = []\n",
    "for i in range(1,exp):\n",
    "    n = 10**exp\n",
    "    n_array[i-1] = i\n",
    "    time_array[i-1] = time_take(n)\n",
    "    \n",
    "    #time_array = np.zeros(trials) \n",
    "    #for j in range(trials):\n",
    "        \n",
    "        #time_array[j] = time_take(n)\n",
    "        \n",
    "    #patch = mpatches.Patch(color=colors[i-1], label=\"10^\" + str(i))\n",
    "    #patches.append(patch)\n",
    "\n",
    "#plt.legend(handles=patches)\n",
    "\n",
    "plt.scatter(n_array, time_array, color=colors[i-1])\n",
    "plt.title(\"Time (s) vs. N\")\n",
    "plt.ylabel(\"Time (s)\")\n",
    "plt.xlabel(\"10^N\")\n",
    "#print(\"The LU decomposition takes a time of :\", sum(tim)/len(tim))\n"
   ]
  }
 ],
 "metadata": {
  "anaconda-cloud": {},
  "kernelspec": {
   "display_name": "Python [conda root]",
   "language": "python",
   "name": "conda-root-py"
  },
  "language_info": {
   "codemirror_mode": {
    "name": "ipython",
    "version": 3
   },
   "file_extension": ".py",
   "mimetype": "text/x-python",
   "name": "python",
   "nbconvert_exporter": "python",
   "pygments_lexer": "ipython3",
   "version": "3.5.2"
  }
 },
 "nbformat": 4,
 "nbformat_minor": 1
}
