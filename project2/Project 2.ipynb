{
 "cells": [
  {
   "cell_type": "code",
   "execution_count": 1,
   "metadata": {
    "collapsed": true
   },
   "outputs": [],
   "source": [
    "import time\n",
    "import matplotlib.pyplot as plt\n",
    "%matplotlib inline\n",
    "import numpy as np\n",
    "from scipy import linalg as la\n",
    "import pandas\n",
    "import math\n",
    "import copy\n",
    "import time"
   ]
  },
  {
   "cell_type": "code",
   "execution_count": 2,
   "metadata": {
    "collapsed": false
   },
   "outputs": [
    {
     "name": "stdout",
     "output_type": "stream",
     "text": [
      "[(3.0562261623224041+0j), (7.075201124214856+0j), (11.025434589877651+0j), (14.905007782815206+0j)]\n"
     ]
    }
   ],
   "source": [
    "'''\n",
    "This will intialize the kind of matrix we want to work with in our project.\n",
    "'''\n",
    "\n",
    "#define the size of the system\n",
    "n = 40\n",
    "\n",
    "#define values\n",
    "omega = 1\n",
    "\n",
    "A = np.zeros(shape=(n,n))\n",
    "V = np.zeros(n)\n",
    "\n",
    "#harmonic oscillation potential\n",
    "#rho max is 10, rho0 is 0\n",
    "p = np.linspace(0,10,n)\n",
    "for i in range(n):\n",
    "    V[i] = p[i]**2\n",
    "    \n",
    "#define step size\n",
    "h = (p[-1]- p[0])/n\n",
    "\n",
    "#create the matrix A    \n",
    "const = -1/(h**2)\n",
    "const2 = 2/(h**2)\n",
    "\n",
    "#Make Matrix A\n",
    "\n",
    "#we evaluate until n-1 so that we eliminate the issues of indexing with the endpoints\n",
    "A[0][0] = const2+V[0]\n",
    "for i in range(n-1):\n",
    "    A[i][i] = const2+V[i+1]\n",
    "    \n",
    "#index until n-2 to avoid the rox and column associated with the endpoint which we are trying to ignore\n",
    "for i in range(n-2):\n",
    "    A[i][i+1] = const\n",
    "    A[i+1][i] = const\n",
    "\n",
    "\n",
    "\n",
    "eigenvalues = la.eigvals(A)\n",
    "print(sorted(eigenvalues)[1:5])"
   ]
  },
  {
   "cell_type": "markdown",
   "metadata": {},
   "source": [
    "The above using scipy.linalg.eigvals to solve for the eigenvalues of the matrix, A. Now we need to use the Jacobi Algorithm in order to make our own eigenvalue solver. We will start with a 4$\\times$4 case first"
   ]
  },
  {
   "cell_type": "code",
   "execution_count": 3,
   "metadata": {
    "collapsed": false
   },
   "outputs": [
    {
     "name": "stdout",
     "output_type": "stream",
     "text": [
      "[[ 2 -4]\n",
      " [-4  1]]\n"
     ]
    }
   ],
   "source": [
    "#This will be our unit test for a 2x2 case to ensure that our algorithms work properly\n",
    "Matrix = np.array([[2,-4],[-4,1]])\n",
    "print(Matrix)"
   ]
  },
  {
   "cell_type": "code",
   "execution_count": 4,
   "metadata": {
    "collapsed": false
   },
   "outputs": [
    {
     "data": {
      "text/plain": [
       "array([ 5.53112887+0.j, -2.53112887+0.j])"
      ]
     },
     "execution_count": 4,
     "metadata": {},
     "output_type": "execute_result"
    }
   ],
   "source": [
    "la.eigvals(Matrix)"
   ]
  },
  {
   "cell_type": "markdown",
   "metadata": {},
   "source": [
    "Our method needs to yield the same values for our test Matrix."
   ]
  },
  {
   "cell_type": "code",
   "execution_count": 5,
   "metadata": {
    "collapsed": false
   },
   "outputs": [
    {
     "data": {
      "text/plain": [
       "(4, 0, 1)"
      ]
     },
     "execution_count": 5,
     "metadata": {},
     "output_type": "execute_result"
    }
   ],
   "source": [
    "val = 0\n",
    "p = 0\n",
    "q = 0\n",
    "for i in range(0,len(Matrix)):\n",
    "    for j in range(0,len(Matrix)):\n",
    "        if abs(Matrix[i][j])>=val and i!=j:\n",
    "            val = abs(Matrix[i][j])\n",
    "            p = j\n",
    "            q = i\n",
    "val, p, q #Returns the maximum value and indexing"
   ]
  },
  {
   "cell_type": "code",
   "execution_count": 6,
   "metadata": {
    "collapsed": false
   },
   "outputs": [
    {
     "data": {
      "text/plain": [
       "(0.88278221853731875, 0.74967817581586582, 0.66180256323574016)"
      ]
     },
     "execution_count": 6,
     "metadata": {},
     "output_type": "execute_result"
    }
   ],
   "source": [
    "#This will provide the values for sin, cos, and tan that we need in looping over our algorithm.\n",
    "tau = (Matrix[q][q]-Matrix[p][p])/(2*Matrix[p][q])\n",
    "tau\n",
    "if tau<0:\n",
    "    tan = 1/(-tau+math.sqrt((1+tau**2)))\n",
    "else:\n",
    "    tan = 1/(tau+math.sqrt((1+tau**2)))\n",
    "cos = (1+tan**2)**(-1/2.)\n",
    "sin = tan*cos\n",
    "tan,cos,sin"
   ]
  },
  {
   "cell_type": "code",
   "execution_count": 7,
   "metadata": {
    "collapsed": false
   },
   "outputs": [
    {
     "name": "stdout",
     "output_type": "stream",
     "text": [
      "[ 5.53112887+0.j -2.53112887+0.j]\n",
      "[[ 5.53112887  0.        ]\n",
      " [ 0.         -2.53112887]]\n"
     ]
    }
   ],
   "source": [
    "B = np.zeros((Matrix.ndim,Matrix.ndim))\n",
    "\n",
    "B[p][q] = 0\n",
    "B[q][p] = 0\n",
    "for i in range(0,Matrix.ndim):\n",
    "    if i!=p and i!=q:\n",
    "        B[i][p] = Matrix[i][p]*cos - Matrix[i][q]*sin\n",
    "        B[i][q] = Matrix[i][q]*cos + Matrix[i][q]*sin\n",
    "        B[p][i] = B[i][p]\n",
    "        B[q][i] = B[i][q]\n",
    "        \n",
    "    else:\n",
    "        B[p][p] = Matrix[p][p]*cos**2-2*Matrix[p][q]*cos*sin+Matrix[q][q]*sin**2\n",
    "        B[q][q] = Matrix[p][p]*sin**2+2*Matrix[p][q]*cos*sin+Matrix[q][q]*cos**2\n",
    "        \n",
    "print(la.eigvals(Matrix))\n",
    "print(B)"
   ]
  },
  {
   "cell_type": "code",
   "execution_count": 8,
   "metadata": {
    "collapsed": true
   },
   "outputs": [],
   "source": [
    "'''\n",
    "This function, jacobi, is the function that we will loop over multiple times until whatever tolerance we set is met\n",
    "for the maximum off diagonal elements. The function begins by looping through the matrix, and it finds the maximum \n",
    "value and stores its index. Then, that enters into the jacobi algorithm and the function returns the matrix after\n",
    "one transformation and the maximum off diagonal value. This way, when it enters into the function for a seocnd \n",
    "iteration, we have a value to test against our tolerance and the matrix, which we run through the jacobi function once\n",
    "more. It combines the pieces from the above functions into one function.\n",
    "'''\n",
    "def jacobi(Matrix):\n",
    "    #print(Matrix)\n",
    "    val = 0.0\n",
    "    p = 0\n",
    "    q = 0\n",
    "    for i in range(0,len(Matrix[0])):\n",
    "        for j in range(i+1,len(Matrix[1])):\n",
    "            if abs(Matrix[i][j])>=val:\n",
    "                val = abs(Matrix[i][j])\n",
    "                p = i\n",
    "                q = j\n",
    "                \n",
    "    if Matrix[p][q] !=0:          \n",
    "        tau = (Matrix[q][q]-Matrix[p][p])/(2*Matrix[p][q])\n",
    "        #print(val,p,q)\n",
    "\n",
    "        if tau<0:\n",
    "            tan = -1/(-tau+math.sqrt((1+tau**2)))\n",
    "        else:\n",
    "            tan = 1/(tau+math.sqrt((1+tau**2)))\n",
    "\n",
    "        cos = 1/math.sqrt(1+tan**2)\n",
    "        sin = tan*cos\n",
    "    else:\n",
    "        cos = 1.0\n",
    "        sin = 0.0\n",
    "    \n",
    "    B = copy.copy(Matrix)\n",
    "    \n",
    "    B[p][p] = Matrix[p][p]*cos**2-2*Matrix[p][q]*cos*sin+Matrix[q][q]*sin**2\n",
    "    B[q][q] = Matrix[p][p]*sin**2+2*Matrix[p][q]*cos*sin+Matrix[q][q]*cos**2\n",
    "    B[p][q] = 0\n",
    "    B[q][p] = 0\n",
    "    \n",
    "    #print(la.eigvals(Matrix))\n",
    "    \n",
    "    for i in range(0,len(B[0])):\n",
    "        if i!=p and i!=q:\n",
    "            B[i][p] = Matrix[i][p]*cos - Matrix[i][q]*sin\n",
    "            B[i][q] = Matrix[i][q]*cos + Matrix[i][p]*sin\n",
    "            B[p][i] = B[i][p]\n",
    "            B[q][i] = B[i][q]\n",
    "            \n",
    "    return B, val"
   ]
  },
  {
   "cell_type": "code",
   "execution_count": 9,
   "metadata": {
    "collapsed": false
   },
   "outputs": [
    {
     "data": {
      "text/plain": [
       "(array([[ 5.53112887,  0.        ],\n",
       "        [ 0.        , -2.53112887]]), 4.0)"
      ]
     },
     "execution_count": 9,
     "metadata": {},
     "output_type": "execute_result"
    }
   ],
   "source": [
    "jacobi(np.array([[2.0,-4.0],[-4.0,1.0]]))"
   ]
  },
  {
   "cell_type": "code",
   "execution_count": 10,
   "metadata": {
    "collapsed": false
   },
   "outputs": [
    {
     "data": {
      "text/plain": [
       "(array([[ 3.,  2.,  1.],\n",
       "        [ 2.,  4.,  1.],\n",
       "        [ 1.,  1.,  5.]]),\n",
       " array([ 6.71447874+0.j,  1.42879858+0.j,  3.85672268+0.j]))"
      ]
     },
     "execution_count": 10,
     "metadata": {},
     "output_type": "execute_result"
    }
   ],
   "source": [
    "#Testing Function through our original matrix. Another unit test for a 3x3 case\n",
    "test3d = np.array([[3.0,2.0,1.0],[2.0,4.0,1.0],[1.0,1.0,5.0]])\n",
    "test3d, la.eigvals(test3d)"
   ]
  },
  {
   "cell_type": "code",
   "execution_count": 11,
   "metadata": {
    "collapsed": true
   },
   "outputs": [],
   "source": [
    "'''\n",
    "This is just an ancillary function that I defined. Since, in the end, we expect to get some values that are very close\n",
    "to 0, but not quite so, then I want to clean up the matrix and get rid of the matrix elements that are negligibly small\n",
    "so that we can neatly read off our eigenvalues.\n",
    "'''\n",
    "def clean(Matrix):\n",
    "    for i in range(len(Matrix[0])):\n",
    "        for j in range(len(Matrix[1])):\n",
    "            if Matrix[i][j] <= 1.0e-9:\n",
    "                Matrix[i][j] = 0\n",
    "    return Matrix"
   ]
  },
  {
   "cell_type": "code",
   "execution_count": 12,
   "metadata": {
    "collapsed": true
   },
   "outputs": [],
   "source": [
    "'''\n",
    "This takes our jacobi function and loops through it multiple times until the maximum off diagonal value is >=10^(-7).\n",
    "'''\n",
    "def jacobi_iteration(Matrix):\n",
    "    start_time = time.time()\n",
    "    A = Matrix\n",
    "    val = 1.0e-5\n",
    "    while val>=1.0e-7:\n",
    "        A, val = jacobi(A)\n",
    "    clean(A)\n",
    "    print(time.time()-start_time)\n",
    "    return A"
   ]
  },
  {
   "cell_type": "code",
   "execution_count": 13,
   "metadata": {
    "collapsed": false
   },
   "outputs": [
    {
     "name": "stdout",
     "output_type": "stream",
     "text": [
      "0.0004291534423828125\n"
     ]
    },
    {
     "data": {
      "text/plain": [
       "array([[ 1.42879858,  0.        ,  0.        ],\n",
       "       [ 0.        ,  6.71447874,  0.        ],\n",
       "       [ 0.        ,  0.        ,  3.85672268]])"
      ]
     },
     "execution_count": 13,
     "metadata": {},
     "output_type": "execute_result"
    }
   ],
   "source": [
    "#Runnning our 3D unit test matrix through this\n",
    "result = jacobi_iteration(test3d)\n",
    "clean(result)"
   ]
  },
  {
   "cell_type": "markdown",
   "metadata": {},
   "source": [
    "We get the expected eigenvalues for our test3d matrix."
   ]
  },
  {
   "cell_type": "code",
   "execution_count": 14,
   "metadata": {
    "collapsed": false
   },
   "outputs": [
    {
     "data": {
      "text/plain": [
       "array([ 1.38196601+0.j,  3.61803399+0.j,  4.00000000+0.j])"
      ]
     },
     "execution_count": 14,
     "metadata": {},
     "output_type": "execute_result"
    }
   ],
   "source": [
    "#For safety sake, I will do another test.\n",
    "testnumber2 = np.array([[2.0,1.0,0.0],[1.0,3.0,0.0],[0.0,0.0,4.0]])\n",
    "la.eigvals(testnumber2)"
   ]
  },
  {
   "cell_type": "code",
   "execution_count": 15,
   "metadata": {
    "collapsed": false
   },
   "outputs": [
    {
     "name": "stdout",
     "output_type": "stream",
     "text": [
      "0.0008528232574462891\n"
     ]
    },
    {
     "data": {
      "text/plain": [
       "array([[ 1.38196601,  0.        ,  0.        ],\n",
       "       [ 0.        ,  3.61803399,  0.        ],\n",
       "       [ 0.        ,  0.        ,  4.        ]])"
      ]
     },
     "execution_count": 15,
     "metadata": {},
     "output_type": "execute_result"
    }
   ],
   "source": [
    "jacobi_iteration(testnumber2)"
   ]
  },
  {
   "cell_type": "code",
   "execution_count": 16,
   "metadata": {
    "collapsed": false
   },
   "outputs": [
    {
     "name": "stdout",
     "output_type": "stream",
     "text": [
      "0.9952309131622314\n"
     ]
    }
   ],
   "source": [
    "'''\n",
    "harmonic is the matrix we created in the very beginning of our python notebook. It will make the matrix which has\n",
    "-1 on the off diagonals and 2+V[i] on the diagonals. The potential for this matrix is the potential in a harmonic\n",
    "oscialltor potential.\n",
    "'''\n",
    "harmonic = jacobi_iteration(A)\n",
    "testdiags = []\n",
    "for i in range(len(harmonic)):\n",
    "    testdiags.append(harmonic[i][i])      "
   ]
  },
  {
   "cell_type": "code",
   "execution_count": 17,
   "metadata": {
    "collapsed": false
   },
   "outputs": [
    {
     "data": {
      "text/plain": [
       "[3.0562261623224143,\n",
       " 7.0752011242148791,\n",
       " 11.025434589877747,\n",
       " 14.905007782815277]"
      ]
     },
     "execution_count": 17,
     "metadata": {},
     "output_type": "execute_result"
    }
   ],
   "source": [
    "sorted(testdiags)[1:5]"
   ]
  },
  {
   "cell_type": "code",
   "execution_count": 18,
   "metadata": {
    "collapsed": false
   },
   "outputs": [
    {
     "data": {
      "text/plain": [
       "array([   3.05622616+0.j,    7.07520112+0.j,   11.02543459+0.j,\n",
       "         14.90500778+0.j,   18.71181322+0.j,   22.44352205+0.j,\n",
       "         26.09754298+0.j,   29.67096982+0.j,   33.16051320+0.j,\n",
       "         36.56240995+0.j,   39.87229963+0.j,   43.08505152+0.j,\n",
       "         46.19451319+0.j,   49.19312869+0.j,   52.07132476+0.j,\n",
       "         54.81644692+0.j,   57.41071834+0.j,   59.82706045+0.j,\n",
       "         62.02674008+0.j,   64.02273028+0.j,   66.03428517+0.j,\n",
       "         68.27912989+0.j,   70.77267310+0.j,   73.48105039+0.j,\n",
       "         76.38132773+0.j,   79.45923248+0.j,   82.70537658+0.j,\n",
       "         86.11405774+0.j,   89.68486488+0.j,   93.42938120+0.j,\n",
       "         97.38425773+0.j,  101.62192739+0.j,  106.24361197+0.j,\n",
       "        111.36203536+0.j,  117.10106954+0.j,  123.62187797+0.j,\n",
       "        131.17874510+0.j,  152.08908137+0.j,  140.25471007+0.j,\n",
       "          0.00000000+0.j])"
      ]
     },
     "execution_count": 18,
     "metadata": {},
     "output_type": "execute_result"
    }
   ],
   "source": [
    "la.eigvals(A)"
   ]
  },
  {
   "cell_type": "markdown",
   "metadata": {},
   "source": [
    "Thus, we have created an eigenvalue solver for the harmonic oscillator potential!"
   ]
  },
  {
   "cell_type": "code",
   "execution_count": 19,
   "metadata": {
    "collapsed": false
   },
   "outputs": [],
   "source": [
    "#This cell will create the array for the 2 electron case. This is a unit test for the kinds of matrices we get when\n",
    "#there is interaction between the two electrons.\n",
    "\n",
    "#define the size of the system\n",
    "n=40\n",
    "\n",
    "#define values\n",
    "omega=0.25\n",
    "\n",
    "twoelec = np.zeros(shape=(n,n))\n",
    "V = np.zeros(n)\n",
    "\n",
    "#harmonic oscillation potential\n",
    "#rho max is 10, rho0 is 0\n",
    "p = np.linspace(0,40,n)\n",
    "for i in range(n):\n",
    "    V[i] = omega**2*p[i]**2+1/p[i]\n",
    "\n",
    "#define step size\n",
    "h = (p[-1]- p[0])/n\n",
    "\n",
    "#create the matrix A    \n",
    "const = -1/(h**2)\n",
    "const2 = 2/(h**2)\n",
    "\n",
    "#Make Matrix A\n",
    "\n",
    "#we evaluate until n-1 so that we eliminate the issues of indexing with the endpoints\n",
    "twoelec[0][0] = const2+V[0]\n",
    "for i in range(n-1):\n",
    "    twoelec[i][i] = const2+V[i+1]\n",
    "\n",
    "#index until n-2 to avoid the rox and column associated with the endpoint which we are trying to ignore\n",
    "for i in range(n-2):\n",
    "    twoelec[i][i+1] = const\n",
    "    twoelec[i+1][i] = const"
   ]
  },
  {
   "cell_type": "code",
   "execution_count": 20,
   "metadata": {
    "collapsed": false
   },
   "outputs": [
    {
     "data": {
      "text/plain": [
       "array([  0.62181583+0.j,   1.06526775+0.j,   1.47963271+0.j,\n",
       "         1.85087367+0.j,   2.14990337+0.j,   2.40874635+0.j,\n",
       "         2.77068912+0.j,   3.22976528+0.j,   3.76667366+0.j,\n",
       "         4.37568805+0.j,   5.05435585+0.j,   5.80137175+0.j,\n",
       "         6.61596051+0.j,   7.49762833+0.j,   8.44604449+0.j,\n",
       "         9.46097880+0.j,  10.54226605+0.j,  11.68978461+0.j,\n",
       "        12.90344296+0.j,  14.18317098+0.j,  15.52891409+0.j,\n",
       "        16.94062916+0.j,  18.41828171+0.j,  19.96184385+0.j,\n",
       "        21.57129279+0.j,  23.24660973+0.j,  24.98777904+0.j,\n",
       "        26.79478762+0.j,  28.66762441+0.j,  30.60628002+0.j,\n",
       "        32.61074643+0.j,  34.68101672+0.j,  36.81708493+0.j,\n",
       "        39.01894590+0.j,  41.28659509+0.j,  43.62002860+0.j,\n",
       "        46.01925596+0.j,  48.48604367+0.j,  51.10945762+0.j,\n",
       "         0.00000000+0.j])"
      ]
     },
     "execution_count": 20,
     "metadata": {},
     "output_type": "execute_result"
    }
   ],
   "source": [
    "la.eigvals(twoelec)/2"
   ]
  },
  {
   "cell_type": "markdown",
   "metadata": {},
   "source": [
    "Our eigenvalues are off by a factor of two. This tells me that, while my eigenvalues are very close to the analytic solutions, I need to adjust my rhomax values in order to account for the varying values of omega."
   ]
  },
  {
   "cell_type": "code",
   "execution_count": 21,
   "metadata": {
    "collapsed": false
   },
   "outputs": [
    {
     "name": "stdout",
     "output_type": "stream",
     "text": [
      "0.36762189865112305\n"
     ]
    },
    {
     "data": {
      "text/plain": [
       "[0.62181583070179447,\n",
       " 1.0652677454118185,\n",
       " 1.4796327091107075,\n",
       " 1.8508736665671786]"
      ]
     },
     "execution_count": 21,
     "metadata": {},
     "output_type": "execute_result"
    }
   ],
   "source": [
    "#frequency of 0.25\n",
    "twoe = jacobi_iteration(twoelec)\n",
    "testdiagselec = []\n",
    "for i in range(len(twoe)):\n",
    "    testdiagselec.append(twoe[i][i]/2) \n",
    "sorted(testdiagselec)[1:5]"
   ]
  },
  {
   "cell_type": "code",
   "execution_count": 22,
   "metadata": {
    "collapsed": true
   },
   "outputs": [],
   "source": [
    "#Now I can set up potential matrices much faster in the future for two electrons interacting in a harmonic\n",
    "#oscillator potential experiencing electrostatic repulsion\n",
    "def interaction_matrix(n, omega, rhomax):\n",
    "    #This cell will create the array for the 2 electron case\n",
    "\n",
    "    #define the size of the system\n",
    "    #n=40\n",
    "\n",
    "    #define values\n",
    "    #omega=0.25\n",
    "\n",
    "    matrix = np.zeros(shape=(n,n))\n",
    "    V = np.zeros(n)\n",
    "\n",
    "    #harmonic oscillation potential\n",
    "    #rho max is 10, rho0 is 0\n",
    "    p = np.linspace(0,rhomax,n)\n",
    "    for i in range(n):\n",
    "        V[i] = omega**2*p[i]**2+1/p[i]\n",
    "\n",
    "    #define step size\n",
    "    h = (p[-1]- p[0])/n\n",
    "\n",
    "    #create the matrix A    \n",
    "    const = -1/(h**2)\n",
    "    const2 = 2/(h**2)\n",
    "\n",
    "    #Make Matrix A\n",
    "\n",
    "    #we evaluate until n-1 so that we eliminate the issues of indexing with the endpoints\n",
    "    matrix[0][0] = const2+V[0]\n",
    "    for i in range(n-1):\n",
    "        matrix[i][i] = const2+V[i+1]\n",
    "\n",
    "    #index until n-2 to avoid the rox and column associated with the endpoint which we are trying to ignore\n",
    "    for i in range(n-2):\n",
    "        matrix[i][i+1] = const\n",
    "        matrix[i+1][i] = const\n",
    "    return matrix"
   ]
  },
  {
   "cell_type": "code",
   "execution_count": 23,
   "metadata": {
    "collapsed": true
   },
   "outputs": [],
   "source": [
    "#Defined to make things easier to compare in the future. It will return my solved eigenvaues, and the expected values\n",
    "#as calculated by the linalg library functionality. \n",
    "def compare(matrix):\n",
    "    expected = la.eigvals(matrix)\n",
    "    array = jacobi_iteration(matrix)\n",
    "    diags = []\n",
    "    for i in range(len(array[0])):\n",
    "        diags.append(array[i][i])\n",
    "    return sorted(diags)[1:5], expected[:5]  "
   ]
  },
  {
   "cell_type": "code",
   "execution_count": 24,
   "metadata": {
    "collapsed": false
   },
   "outputs": [
    {
     "name": "stdout",
     "output_type": "stream",
     "text": [
      "0.9585928916931152\n"
     ]
    },
    {
     "data": {
      "text/plain": [
       "([4.1020689176256733,\n",
       "  7.9784216514480439,\n",
       "  11.844207893208674,\n",
       "  15.666625238869045],\n",
       " array([  4.10206892+0.j,   7.97842165+0.j,  11.84420789+0.j,\n",
       "         15.66662524+0.j,  19.43180805+0.j]))"
      ]
     },
     "execution_count": 24,
     "metadata": {},
     "output_type": "execute_result"
    }
   ],
   "source": [
    "#Just to test functions using same coulombic case as above\n",
    "func_test = interaction_matrix(40,1,10)\n",
    "compare(func_test)"
   ]
  },
  {
   "cell_type": "markdown",
   "metadata": {},
   "source": [
    "I now have a function that will allow me to compare multiple potentials! And see the results of my eigenvalue solver."
   ]
  },
  {
   "cell_type": "code",
   "execution_count": 28,
   "metadata": {
    "collapsed": false
   },
   "outputs": [
    {
     "name": "stdout",
     "output_type": "stream",
     "text": [
      "0.35323309898376465\n"
     ]
    },
    {
     "data": {
      "text/plain": [
       "([1.2436316614035889,\n",
       "  2.1305354908236369,\n",
       "  2.9592654182214151,\n",
       "  3.7017473331343571],\n",
       " array([ 1.24363166+0.j,  2.13053549+0.j,  2.95926542+0.j,  3.70174733+0.j,\n",
       "         4.29980673+0.j]))"
      ]
     },
     "execution_count": 28,
     "metadata": {},
     "output_type": "execute_result"
    }
   ],
   "source": [
    "'''\n",
    "I want to run a comparison between my eigenvalue solver and the analytic solution that Taut arrived at. With \n",
    "omega = 0.25, and the first slved eigenvalue (ground state) e' = 0.6250.\n",
    "'''\n",
    "\n",
    "analytic_comp = interaction_matrix(40, 0.25, 10/0.25)\n",
    "compare(analytic_comp)"
   ]
  },
  {
   "cell_type": "code",
   "execution_count": 29,
   "metadata": {
    "collapsed": false
   },
   "outputs": [
    {
     "data": {
      "text/plain": [
       "[0.62181583070179447,\n",
       " 1.0652677454118185,\n",
       " 1.4796327091107075,\n",
       " 1.8508736665671786]"
      ]
     },
     "execution_count": 29,
     "metadata": {},
     "output_type": "execute_result"
    }
   ],
   "source": [
    "results = []\n",
    "for i in range(len(analytic_comp)):\n",
    "    results.append(twoe[i][i]/2) \n",
    "sorted(results)[1:5]"
   ]
  },
  {
   "cell_type": "code",
   "execution_count": null,
   "metadata": {
    "collapsed": true
   },
   "outputs": [],
   "source": []
  }
 ],
 "metadata": {
  "anaconda-cloud": {},
  "kernelspec": {
   "display_name": "Python [default]",
   "language": "python",
   "name": "python3"
  },
  "language_info": {
   "codemirror_mode": {
    "name": "ipython",
    "version": 3
   },
   "file_extension": ".py",
   "mimetype": "text/x-python",
   "name": "python",
   "nbconvert_exporter": "python",
   "pygments_lexer": "ipython3",
   "version": "3.5.2"
  }
 },
 "nbformat": 4,
 "nbformat_minor": 1
}
