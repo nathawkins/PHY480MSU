{
 "cells": [
  {
   "cell_type": "code",
   "execution_count": 1,
   "metadata": {
    "collapsed": true
   },
   "outputs": [],
   "source": [
    "import time\n",
    "import matplotlib.pyplot as plt\n",
    "%matplotlib inline\n",
    "import numpy as np\n",
    "from scipy import linalg as la\n",
    "import pandas\n",
    "import math\n",
    "import copy\n",
    "import time"
   ]
  },
  {
   "cell_type": "markdown",
   "metadata": {},
   "source": [
    "Just to note, any sort of randomly placed number is the timing value for how long the program took to run."
   ]
  },
  {
   "cell_type": "code",
   "execution_count": 2,
   "metadata": {
    "collapsed": false
   },
   "outputs": [
    {
     "name": "stdout",
     "output_type": "stream",
     "text": [
      "[(3.0562261623223916+0j), (7.0752011242148436+0j), (11.025434589877687+0j), (14.905007782815206+0j)]\n"
     ]
    }
   ],
   "source": [
    "'''\n",
    "This will intialize the kind of matrix we want to work with in our project.\n",
    "'''\n",
    "\n",
    "#define the size of the system\n",
    "n = 40\n",
    "\n",
    "#define values\n",
    "omega = 1\n",
    "\n",
    "A = np.zeros(shape=(n,n))\n",
    "V = np.zeros(n)\n",
    "\n",
    "#harmonic oscillation potential\n",
    "#rho max is 10, rho0 is 0\n",
    "p = np.linspace(0,10,n)\n",
    "for i in range(n):\n",
    "    V[i] = p[i]**2\n",
    "    \n",
    "#define step size\n",
    "h = (p[-1]- p[0])/n\n",
    "\n",
    "#create the matrix A    \n",
    "const = -1/(h**2)\n",
    "const2 = 2/(h**2)\n",
    "\n",
    "#Make Matrix A\n",
    "\n",
    "#we evaluate until n-1 so that we eliminate the issues of indexing with the endpoints\n",
    "A[0][0] = const2+V[0]\n",
    "for i in range(n-1):\n",
    "    A[i][i] = const2+V[i+1]\n",
    "    \n",
    "#index until n-2 to avoid the rox and column associated with the endpoint which we are trying to ignore\n",
    "for i in range(n-2):\n",
    "    A[i][i+1] = const\n",
    "    A[i+1][i] = const\n",
    "\n",
    "\n",
    "\n",
    "eigenvalues = la.eigvals(A)\n",
    "print(sorted(eigenvalues)[1:5])"
   ]
  },
  {
   "cell_type": "markdown",
   "metadata": {},
   "source": [
    "The above using scipy.linalg.eigvals to solve for the eigenvalues of the matrix, A. Now we need to use the Jacobi Algorithm in order to make our own eigenvalue solver. We will start with a 4$\\times$4 case first"
   ]
  },
  {
   "cell_type": "code",
   "execution_count": 3,
   "metadata": {
    "collapsed": false
   },
   "outputs": [
    {
     "name": "stdout",
     "output_type": "stream",
     "text": [
      "[[ 2 -4]\n",
      " [-4  1]]\n"
     ]
    }
   ],
   "source": [
    "#This will be our unit test for a 2x2 case to ensure that our algorithms work properly\n",
    "Matrix = np.array([[2,-4],[-4,1]])\n",
    "print(Matrix)"
   ]
  },
  {
   "cell_type": "code",
   "execution_count": 4,
   "metadata": {
    "collapsed": false
   },
   "outputs": [
    {
     "data": {
      "text/plain": [
       "array([ 5.53112887+0.j, -2.53112887+0.j])"
      ]
     },
     "execution_count": 4,
     "metadata": {},
     "output_type": "execute_result"
    }
   ],
   "source": [
    "la.eigvals(Matrix)"
   ]
  },
  {
   "cell_type": "markdown",
   "metadata": {},
   "source": [
    "Our method needs to yield the same values for our test Matrix."
   ]
  },
  {
   "cell_type": "code",
   "execution_count": 5,
   "metadata": {
    "collapsed": false
   },
   "outputs": [
    {
     "name": "stdout",
     "output_type": "stream",
     "text": [
      "[ 0.74967818  0.66180256] [-0.66180256  0.74967818]\n"
     ]
    },
    {
     "data": {
      "text/plain": [
       "0.0"
      ]
     },
     "execution_count": 5,
     "metadata": {},
     "output_type": "execute_result"
    }
   ],
   "source": [
    "#I want to see if the orthogonality is preserved after one transformation.\n",
    "x, v = la.eig(Matrix)\n",
    "print(v[0],v[1])\n",
    "np.dot(v[0],v[1])"
   ]
  },
  {
   "cell_type": "markdown",
   "metadata": {},
   "source": [
    "The dot product above shows that the eigenvectors are indeed orthogonal at the beginnning. I will test this again after the transformation."
   ]
  },
  {
   "cell_type": "code",
   "execution_count": 6,
   "metadata": {
    "collapsed": false
   },
   "outputs": [
    {
     "data": {
      "text/plain": [
       "(4, 0, 1)"
      ]
     },
     "execution_count": 6,
     "metadata": {},
     "output_type": "execute_result"
    }
   ],
   "source": [
    "val = 0\n",
    "p = 0\n",
    "q = 0\n",
    "for i in range(0,len(Matrix)):\n",
    "    for j in range(0,len(Matrix)):\n",
    "        if abs(Matrix[i][j])>=val and i!=j:\n",
    "            val = abs(Matrix[i][j])\n",
    "            p = j\n",
    "            q = i\n",
    "val, p, q #Returns the maximum value and indexing"
   ]
  },
  {
   "cell_type": "code",
   "execution_count": 7,
   "metadata": {
    "collapsed": false
   },
   "outputs": [
    {
     "data": {
      "text/plain": [
       "(0.88278221853731875, 0.74967817581586582, 0.66180256323574016)"
      ]
     },
     "execution_count": 7,
     "metadata": {},
     "output_type": "execute_result"
    }
   ],
   "source": [
    "#This will provide the values for sin, cos, and tan that we need in looping over our algorithm.\n",
    "tau = (Matrix[q][q]-Matrix[p][p])/(2*Matrix[p][q])\n",
    "tau\n",
    "if tau<0:\n",
    "    tan = 1/(-tau+math.sqrt((1+tau**2)))\n",
    "else:\n",
    "    tan = 1/(tau+math.sqrt((1+tau**2)))\n",
    "cos = (1+tan**2)**(-1/2.)\n",
    "sin = tan*cos\n",
    "tan,cos,sin"
   ]
  },
  {
   "cell_type": "code",
   "execution_count": 8,
   "metadata": {
    "collapsed": false
   },
   "outputs": [
    {
     "name": "stdout",
     "output_type": "stream",
     "text": [
      "[ 5.53112887+0.j -2.53112887+0.j]\n",
      "[[ 5.53112887  0.        ]\n",
      " [ 0.         -2.53112887]]\n"
     ]
    }
   ],
   "source": [
    "B = np.zeros((Matrix.ndim,Matrix.ndim))\n",
    "\n",
    "B[p][q] = 0\n",
    "B[q][p] = 0\n",
    "for i in range(0,Matrix.ndim):\n",
    "    if i!=p and i!=q:\n",
    "        B[i][p] = Matrix[i][p]*cos - Matrix[i][q]*sin\n",
    "        B[i][q] = Matrix[i][q]*cos + Matrix[i][q]*sin\n",
    "        B[p][i] = B[i][p]\n",
    "        B[q][i] = B[i][q]\n",
    "        \n",
    "    else:\n",
    "        B[p][p] = Matrix[p][p]*cos**2-2*Matrix[p][q]*cos*sin+Matrix[q][q]*sin**2\n",
    "        B[q][q] = Matrix[p][p]*sin**2+2*Matrix[p][q]*cos*sin+Matrix[q][q]*cos**2\n",
    "        \n",
    "print(la.eigvals(Matrix))\n",
    "print(B)"
   ]
  },
  {
   "cell_type": "code",
   "execution_count": 9,
   "metadata": {
    "collapsed": false
   },
   "outputs": [
    {
     "name": "stdout",
     "output_type": "stream",
     "text": [
      "[ 1.  0.] [ 0.  1.]\n"
     ]
    },
    {
     "data": {
      "text/plain": [
       "0.0"
      ]
     },
     "execution_count": 9,
     "metadata": {},
     "output_type": "execute_result"
    }
   ],
   "source": [
    "eval2, evecs2 = la.eig(B)\n",
    "print(evecs2[0],evecs2[1])\n",
    "np.dot(evecs2[0],evecs2[1])"
   ]
  },
  {
   "cell_type": "markdown",
   "metadata": {},
   "source": [
    "The dot product orthogonality is preserved through 1 transformation accoridng to the dot product above. Since this succeeds for this unit test of orthogonality, then I will trust this moving forward."
   ]
  },
  {
   "cell_type": "code",
   "execution_count": 10,
   "metadata": {
    "collapsed": true
   },
   "outputs": [],
   "source": [
    "'''\n",
    "This function, jacobi, is the function that we will loop over multiple times until whatever tolerance we set is met\n",
    "for the maximum off diagonal elements. The function begins by looping through the matrix, and it finds the maximum \n",
    "value and stores its index. Then, that enters into the jacobi algorithm and the function returns the matrix after\n",
    "one transformation and the maximum off diagonal value. This way, when it enters into the function for a seocnd \n",
    "iteration, we have a value to test against our tolerance and the matrix, which we run through the jacobi function once\n",
    "more. It combines the pieces from the above functions into one function.\n",
    "'''\n",
    "def jacobi(Matrix):\n",
    "    #print(Matrix)\n",
    "    val = 0.0\n",
    "    p = 0\n",
    "    q = 0\n",
    "    for i in range(0,len(Matrix[0])):\n",
    "        for j in range(i+1,len(Matrix[1])):\n",
    "            if abs(Matrix[i][j])>=val:\n",
    "                val = abs(Matrix[i][j])\n",
    "                p = i\n",
    "                q = j\n",
    "                \n",
    "    if Matrix[p][q] !=0:          \n",
    "        tau = (Matrix[q][q]-Matrix[p][p])/(2*Matrix[p][q])\n",
    "        #print(val,p,q)\n",
    "\n",
    "        if tau<0:\n",
    "            tan = -1/(-tau+math.sqrt((1+tau**2)))\n",
    "        else:\n",
    "            tan = 1/(tau+math.sqrt((1+tau**2)))\n",
    "\n",
    "        cos = 1/math.sqrt(1+tan**2)\n",
    "        sin = tan*cos\n",
    "    else:\n",
    "        cos = 1.0\n",
    "        sin = 0.0\n",
    "    \n",
    "    B = copy.copy(Matrix)\n",
    "    \n",
    "    B[p][p] = Matrix[p][p]*cos**2-2*Matrix[p][q]*cos*sin+Matrix[q][q]*sin**2\n",
    "    B[q][q] = Matrix[p][p]*sin**2+2*Matrix[p][q]*cos*sin+Matrix[q][q]*cos**2\n",
    "    B[p][q] = 0\n",
    "    B[q][p] = 0\n",
    "    \n",
    "    #print(la.eigvals(Matrix))\n",
    "    \n",
    "    for i in range(0,len(B[0])):\n",
    "        if i!=p and i!=q:\n",
    "            B[i][p] = Matrix[i][p]*cos - Matrix[i][q]*sin\n",
    "            B[i][q] = Matrix[i][q]*cos + Matrix[i][p]*sin\n",
    "            B[p][i] = B[i][p]\n",
    "            B[q][i] = B[i][q]\n",
    "            \n",
    "    return B, val"
   ]
  },
  {
   "cell_type": "code",
   "execution_count": 11,
   "metadata": {
    "collapsed": false
   },
   "outputs": [
    {
     "data": {
      "text/plain": [
       "(array([[ 5.53112887,  0.        ],\n",
       "        [ 0.        , -2.53112887]]), 4.0)"
      ]
     },
     "execution_count": 11,
     "metadata": {},
     "output_type": "execute_result"
    }
   ],
   "source": [
    "jacobi(np.array([[2.0,-4.0],[-4.0,1.0]]))"
   ]
  },
  {
   "cell_type": "code",
   "execution_count": 12,
   "metadata": {
    "collapsed": false
   },
   "outputs": [
    {
     "data": {
      "text/plain": [
       "(array([[ 3.,  2.,  1.],\n",
       "        [ 2.,  4.,  1.],\n",
       "        [ 1.,  1.,  5.]]),\n",
       " array([ 6.71447874+0.j,  1.42879858+0.j,  3.85672268+0.j]))"
      ]
     },
     "execution_count": 12,
     "metadata": {},
     "output_type": "execute_result"
    }
   ],
   "source": [
    "#Testing Function through our original matrix. Another unit test for a 3x3 case\n",
    "test3d = np.array([[3.0,2.0,1.0],[2.0,4.0,1.0],[1.0,1.0,5.0]])\n",
    "test3d, la.eigvals(test3d)"
   ]
  },
  {
   "cell_type": "code",
   "execution_count": 13,
   "metadata": {
    "collapsed": true
   },
   "outputs": [],
   "source": [
    "'''\n",
    "This is just an ancillary function that I defined. Since, in the end, we expect to get some values that are very close\n",
    "to 0, but not quite so, then I want to clean up the matrix and get rid of the matrix elements that are negligibly small\n",
    "so that we can neatly read off our eigenvalues.\n",
    "'''\n",
    "def clean(Matrix):\n",
    "    for i in range(len(Matrix[0])):\n",
    "        for j in range(len(Matrix[1])):\n",
    "            if Matrix[i][j] <= 1.0e-9:\n",
    "                Matrix[i][j] = 0\n",
    "    return Matrix"
   ]
  },
  {
   "cell_type": "code",
   "execution_count": 14,
   "metadata": {
    "collapsed": true
   },
   "outputs": [],
   "source": [
    "'''\n",
    "This takes our jacobi function and loops through it multiple times until the maximum off diagonal value is >=10^(-7).\n",
    "'''\n",
    "def jacobi_iteration(Matrix):\n",
    "    start_time = time.time()\n",
    "    A = Matrix\n",
    "    val = 1.0e-5\n",
    "    while val>=1.0e-7:\n",
    "        A, val = jacobi(A)\n",
    "    clean(A)\n",
    "    print(time.time()-start_time)\n",
    "    return A"
   ]
  },
  {
   "cell_type": "code",
   "execution_count": 15,
   "metadata": {
    "collapsed": false
   },
   "outputs": [
    {
     "name": "stdout",
     "output_type": "stream",
     "text": [
      "0.00124359130859375\n"
     ]
    },
    {
     "data": {
      "text/plain": [
       "array([[ 1.42879858,  0.        ,  0.        ],\n",
       "       [ 0.        ,  6.71447874,  0.        ],\n",
       "       [ 0.        ,  0.        ,  3.85672268]])"
      ]
     },
     "execution_count": 15,
     "metadata": {},
     "output_type": "execute_result"
    }
   ],
   "source": [
    "#Runnning our 3D unit test matrix through this\n",
    "result = jacobi_iteration(test3d)\n",
    "clean(result)"
   ]
  },
  {
   "cell_type": "markdown",
   "metadata": {},
   "source": [
    "We get the expected eigenvalues for our test3d matrix."
   ]
  },
  {
   "cell_type": "markdown",
   "metadata": {},
   "source": [
    "I want to confirm that orthogonolaity is preserved throughout."
   ]
  },
  {
   "cell_type": "code",
   "execution_count": 16,
   "metadata": {
    "collapsed": false
   },
   "outputs": [],
   "source": [
    "'''\n",
    "This will be a unit test for the 3x3 case. I have updated my iteration function to include an argument for the eigen-\n",
    "vectors that will do the dot products between the various eigenvectors. If the values of the dot product are reasonably\n",
    "close to approximately 0, then I can consider these to be orthogonal. This will show that orthogonality is preserved \n",
    "throughout this transformation. \n",
    "'''\n",
    "def jacobi_iteration_ortho(Matrix):\n",
    "    start_time = time.time()\n",
    "    A = Matrix\n",
    "    val = 1.0e-5\n",
    "    i=0\n",
    "    while val>=1.0e-7:\n",
    "        A, val = jacobi(A)\n",
    "        values, vectors = la.eig(A)\n",
    "        i+=1\n",
    "        if i%5==0:\n",
    "            values, vectors = la.eig(A)\n",
    "            print(np.dot(vectors[0],vectors[1]))\n",
    "            print(np.dot(vectors[1],vectors[2]))\n",
    "            print(np.dot(vectors[0],vectors[2]))\n",
    "                \n",
    "    clean(A)\n",
    "    print(time.time()-start_time)\n",
    "    return A"
   ]
  },
  {
   "cell_type": "code",
   "execution_count": 17,
   "metadata": {
    "collapsed": false
   },
   "outputs": [
    {
     "name": "stdout",
     "output_type": "stream",
     "text": [
      "3.60650747073e-21\n",
      "-4.26191002922e-17\n",
      "1.90994930051e-20\n",
      "0.00855255126953125\n"
     ]
    },
    {
     "data": {
      "text/plain": [
       "array([[ 1.42879858,  0.        ,  0.        ],\n",
       "       [ 0.        ,  6.71447874,  0.        ],\n",
       "       [ 0.        ,  0.        ,  3.85672268]])"
      ]
     },
     "execution_count": 17,
     "metadata": {},
     "output_type": "execute_result"
    }
   ],
   "source": [
    "jacobi_iteration_ortho(test3d)"
   ]
  },
  {
   "cell_type": "markdown",
   "metadata": {},
   "source": [
    "The values printed in the above cells along with the diagonal matrix are the dot products of the eigenvectors of the matrix as the transformations are being applied. The dot products show that the orthogonality is preserved across multiple transformations. This unit test proves that our algorithm preserves orthogonality. Since this unit test passes for the 3 $\\times$ 3 case, then I can trust my algorithm to do so in larger size matrices with more repetitions of the algorithm."
   ]
  },
  {
   "cell_type": "code",
   "execution_count": 18,
   "metadata": {
    "collapsed": false
   },
   "outputs": [
    {
     "data": {
      "text/plain": [
       "array([ 1.38196601+0.j,  3.61803399+0.j,  4.00000000+0.j])"
      ]
     },
     "execution_count": 18,
     "metadata": {},
     "output_type": "execute_result"
    }
   ],
   "source": [
    "#For safety sake, I will do another test.\n",
    "testnumber2 = np.array([[2.0,1.0,0.0],[1.0,3.0,0.0],[0.0,0.0,4.0]])\n",
    "la.eigvals(testnumber2)"
   ]
  },
  {
   "cell_type": "code",
   "execution_count": 19,
   "metadata": {
    "collapsed": false
   },
   "outputs": [
    {
     "name": "stdout",
     "output_type": "stream",
     "text": [
      "0.00035309791564941406\n"
     ]
    },
    {
     "data": {
      "text/plain": [
       "array([[ 1.38196601,  0.        ,  0.        ],\n",
       "       [ 0.        ,  3.61803399,  0.        ],\n",
       "       [ 0.        ,  0.        ,  4.        ]])"
      ]
     },
     "execution_count": 19,
     "metadata": {},
     "output_type": "execute_result"
    }
   ],
   "source": [
    "jacobi_iteration(testnumber2)"
   ]
  },
  {
   "cell_type": "code",
   "execution_count": 20,
   "metadata": {
    "collapsed": false
   },
   "outputs": [
    {
     "name": "stdout",
     "output_type": "stream",
     "text": [
      "6.108800888061523\n"
     ]
    }
   ],
   "source": [
    "'''\n",
    "harmonic is the matrix we created in the very beginning of our python notebook. It will make the matrix which has\n",
    "-1 on the off diagonals and 2+V[i] on the diagonals. The potential for this matrix is the potential in a harmonic\n",
    "oscialltor potential.\n",
    "'''\n",
    "harmonic = jacobi_iteration(A)\n",
    "testdiags = []\n",
    "for i in range(len(harmonic)):\n",
    "    testdiags.append(harmonic[i][i])      "
   ]
  },
  {
   "cell_type": "code",
   "execution_count": 21,
   "metadata": {
    "collapsed": false
   },
   "outputs": [
    {
     "data": {
      "text/plain": [
       "[3.0562261623224143,\n",
       " 7.0752011242148791,\n",
       " 11.025434589877747,\n",
       " 14.905007782815277]"
      ]
     },
     "execution_count": 21,
     "metadata": {},
     "output_type": "execute_result"
    }
   ],
   "source": [
    "sorted(testdiags)[1:5]"
   ]
  },
  {
   "cell_type": "code",
   "execution_count": 22,
   "metadata": {
    "collapsed": false
   },
   "outputs": [
    {
     "data": {
      "text/plain": [
       "array([   3.05622616+0.j,    7.07520112+0.j,   11.02543459+0.j,\n",
       "         14.90500778+0.j,   18.71181322+0.j,   22.44352205+0.j,\n",
       "         26.09754298+0.j,   29.67096982+0.j,   33.16051320+0.j,\n",
       "         36.56240995+0.j,   39.87229963+0.j,   43.08505152+0.j,\n",
       "         46.19451319+0.j,   49.19312869+0.j,   52.07132476+0.j,\n",
       "         54.81644692+0.j,   57.41071834+0.j,   59.82706045+0.j,\n",
       "         62.02674008+0.j,   64.02273028+0.j,   66.03428517+0.j,\n",
       "         68.27912989+0.j,   70.77267310+0.j,   73.48105039+0.j,\n",
       "         76.38132773+0.j,   79.45923248+0.j,   82.70537658+0.j,\n",
       "         86.11405774+0.j,   89.68486488+0.j,   93.42938120+0.j,\n",
       "         97.38425773+0.j,  101.62192739+0.j,  106.24361197+0.j,\n",
       "        111.36203536+0.j,  117.10106954+0.j,  123.62187797+0.j,\n",
       "        131.17874510+0.j,  152.08908137+0.j,  140.25471007+0.j,\n",
       "          0.00000000+0.j])"
      ]
     },
     "execution_count": 22,
     "metadata": {},
     "output_type": "execute_result"
    }
   ],
   "source": [
    "la.eigvals(A)"
   ]
  },
  {
   "cell_type": "markdown",
   "metadata": {},
   "source": [
    "Thus, we have created an eigenvalue solver for the harmonic oscillator potential!"
   ]
  },
  {
   "cell_type": "code",
   "execution_count": 23,
   "metadata": {
    "collapsed": false
   },
   "outputs": [
    {
     "name": "stderr",
     "output_type": "stream",
     "text": [
      "/home/nathawkins/anaconda3/lib/python3.6/site-packages/ipykernel/__main__.py:17: RuntimeWarning: divide by zero encountered in double_scalars\n"
     ]
    }
   ],
   "source": [
    "#This cell will create the array for the 2 electron case. This is a unit test for the kinds of matrices we get when\n",
    "#there is interaction between the two electrons.\n",
    "\n",
    "#define the size of the system\n",
    "n=40\n",
    "\n",
    "#define values\n",
    "omega=0.25\n",
    "\n",
    "twoelec = np.zeros(shape=(n,n))\n",
    "V = np.zeros(n)\n",
    "\n",
    "#harmonic oscillation potential\n",
    "#rho max is 10, rho0 is 0\n",
    "p = np.linspace(0,40,n)\n",
    "for i in range(n):\n",
    "    V[i] = omega**2*p[i]**2+1/p[i]\n",
    "\n",
    "#define step size\n",
    "h = (p[-1]- p[0])/n\n",
    "\n",
    "#create the matrix A    \n",
    "const = -1/(h**2)\n",
    "const2 = 2/(h**2)\n",
    "\n",
    "#Make Matrix A\n",
    "\n",
    "#we evaluate until n-1 so that we eliminate the issues of indexing with the endpoints\n",
    "twoelec[0][0] = const2+V[0]\n",
    "for i in range(n-1):\n",
    "    twoelec[i][i] = const2+V[i+1]\n",
    "\n",
    "#index until n-2 to avoid the rox and column associated with the endpoint which we are trying to ignore\n",
    "for i in range(n-2):\n",
    "    twoelec[i][i+1] = const\n",
    "    twoelec[i+1][i] = const"
   ]
  },
  {
   "cell_type": "code",
   "execution_count": 24,
   "metadata": {
    "collapsed": false
   },
   "outputs": [
    {
     "data": {
      "text/plain": [
       "array([  0.62181583+0.j,   1.06526775+0.j,   1.47963271+0.j,\n",
       "         1.85087367+0.j,   2.14990337+0.j,   2.40874635+0.j,\n",
       "         2.77068912+0.j,   3.22976528+0.j,   3.76667366+0.j,\n",
       "         4.37568805+0.j,   5.05435585+0.j,   5.80137175+0.j,\n",
       "         6.61596051+0.j,   7.49762833+0.j,   8.44604449+0.j,\n",
       "         9.46097880+0.j,  10.54226605+0.j,  11.68978461+0.j,\n",
       "        12.90344296+0.j,  14.18317098+0.j,  15.52891409+0.j,\n",
       "        16.94062916+0.j,  18.41828171+0.j,  19.96184385+0.j,\n",
       "        21.57129279+0.j,  23.24660973+0.j,  24.98777904+0.j,\n",
       "        26.79478762+0.j,  28.66762441+0.j,  30.60628002+0.j,\n",
       "        32.61074643+0.j,  34.68101672+0.j,  36.81708493+0.j,\n",
       "        39.01894590+0.j,  41.28659509+0.j,  43.62002860+0.j,\n",
       "        46.01925596+0.j,  48.48604367+0.j,  51.10945762+0.j,\n",
       "         0.00000000+0.j])"
      ]
     },
     "execution_count": 24,
     "metadata": {},
     "output_type": "execute_result"
    }
   ],
   "source": [
    "la.eigvals(twoelec)/2"
   ]
  },
  {
   "cell_type": "markdown",
   "metadata": {},
   "source": [
    "Our eigenvalues are off by a factor of two. This tells me that, while my eigenvalues are very close to the analytic solutions, I need to adjust my rhomax values in order to account for the varying values of omega."
   ]
  },
  {
   "cell_type": "code",
   "execution_count": 25,
   "metadata": {
    "collapsed": false
   },
   "outputs": [
    {
     "name": "stdout",
     "output_type": "stream",
     "text": [
      "2.1558678150177\n"
     ]
    },
    {
     "data": {
      "text/plain": [
       "[0.62181583070179447,\n",
       " 1.0652677454118185,\n",
       " 1.4796327091107075,\n",
       " 1.8508736665671786]"
      ]
     },
     "execution_count": 25,
     "metadata": {},
     "output_type": "execute_result"
    }
   ],
   "source": [
    "#frequency of 0.25\n",
    "twoe = jacobi_iteration(twoelec)\n",
    "testdiagselec = []\n",
    "for i in range(len(twoe)):\n",
    "    testdiagselec.append(twoe[i][i]/2) \n",
    "sorted(testdiagselec)[1:5]"
   ]
  },
  {
   "cell_type": "code",
   "execution_count": 26,
   "metadata": {
    "collapsed": true
   },
   "outputs": [],
   "source": [
    "#Now I can set up potential matrices much faster in the future for two electrons interacting in a harmonic\n",
    "#oscillator potential experiencing electrostatic repulsion\n",
    "def interaction_matrix(n, omega, rhomax):\n",
    "    #This cell will create the array for the 2 electron case\n",
    "\n",
    "    #define the size of the system\n",
    "    #n=40\n",
    "\n",
    "    #define values\n",
    "    #omega=0.25\n",
    "\n",
    "    matrix = np.zeros(shape=(n,n))\n",
    "    V = np.zeros(n)\n",
    "\n",
    "    #harmonic oscillation potential\n",
    "    #rho max is 10, rho0 is 0\n",
    "    p = np.linspace(0,rhomax,n)\n",
    "    for i in range(n):\n",
    "        V[i] = omega**2*p[i]**2+1/p[i]\n",
    "\n",
    "    #define step size\n",
    "    h = (p[-1]- p[0])/n\n",
    "\n",
    "    #create the matrix A    \n",
    "    const = -1/(h**2)\n",
    "    const2 = 2/(h**2)\n",
    "\n",
    "    #Make Matrix A\n",
    "\n",
    "    #we evaluate until n-1 so that we eliminate the issues of indexing with the endpoints\n",
    "    matrix[0][0] = const2+V[0]\n",
    "    for i in range(n-1):\n",
    "        matrix[i][i] = const2+V[i+1]\n",
    "\n",
    "    #index until n-2 to avoid the rox and column associated with the endpoint which we are trying to ignore\n",
    "    for i in range(n-2):\n",
    "        matrix[i][i+1] = const\n",
    "        matrix[i+1][i] = const\n",
    "    return matrix"
   ]
  },
  {
   "cell_type": "code",
   "execution_count": 27,
   "metadata": {
    "collapsed": true
   },
   "outputs": [],
   "source": [
    "#Defined to make things easier to compare in the future. It will return my solved eigenvaues, and the expected values\n",
    "#as calculated by the linalg library functionality. \n",
    "def compare(matrix):\n",
    "    expected = la.eigvals(matrix)\n",
    "    array = jacobi_iteration(matrix)\n",
    "    diags = []\n",
    "    for i in range(len(array[0])):\n",
    "        diags.append(array[i][i])\n",
    "    return sorted(diags)[1:5], expected[:5]  "
   ]
  },
  {
   "cell_type": "code",
   "execution_count": 28,
   "metadata": {
    "collapsed": false
   },
   "outputs": [
    {
     "name": "stderr",
     "output_type": "stream",
     "text": [
      "/home/nathawkins/anaconda3/lib/python3.6/site-packages/ipykernel/__main__.py:19: RuntimeWarning: divide by zero encountered in double_scalars\n"
     ]
    },
    {
     "name": "stdout",
     "output_type": "stream",
     "text": [
      "6.039921760559082\n"
     ]
    },
    {
     "data": {
      "text/plain": [
       "([4.1020689176256733,\n",
       "  7.9784216514480439,\n",
       "  11.844207893208674,\n",
       "  15.666625238869045],\n",
       " array([  4.10206892+0.j,   7.97842165+0.j,  11.84420789+0.j,\n",
       "         15.66662524+0.j,  19.43180805+0.j]))"
      ]
     },
     "execution_count": 28,
     "metadata": {},
     "output_type": "execute_result"
    }
   ],
   "source": [
    "#Just to test functions using same coulombic case as above\n",
    "func_test = interaction_matrix(40,1,10)\n",
    "compare(func_test)"
   ]
  },
  {
   "cell_type": "markdown",
   "metadata": {},
   "source": [
    "I now have a function that will allow me to compare multiple potentials! And see the results of my eigenvalue solver."
   ]
  },
  {
   "cell_type": "code",
   "execution_count": 29,
   "metadata": {
    "collapsed": false
   },
   "outputs": [
    {
     "name": "stderr",
     "output_type": "stream",
     "text": [
      "/home/nathawkins/anaconda3/lib/python3.6/site-packages/ipykernel/__main__.py:19: RuntimeWarning: divide by zero encountered in double_scalars\n"
     ]
    },
    {
     "name": "stdout",
     "output_type": "stream",
     "text": [
      "2.1506941318511963\n"
     ]
    },
    {
     "data": {
      "text/plain": [
       "([1.2436316614035889,\n",
       "  2.1305354908236369,\n",
       "  2.9592654182214151,\n",
       "  3.7017473331343571],\n",
       " array([ 1.24363166+0.j,  2.13053549+0.j,  2.95926542+0.j,  3.70174733+0.j,\n",
       "         4.29980673+0.j]))"
      ]
     },
     "execution_count": 29,
     "metadata": {},
     "output_type": "execute_result"
    }
   ],
   "source": [
    "'''\n",
    "I want to run a comparison between my eigenvalue solver and the analytic solution that Taut arrived at. With \n",
    "omega = 0.25, and the first slved eigenvalue (ground state) e' = 0.6250.\n",
    "'''\n",
    "\n",
    "analytic_comp = interaction_matrix(40, 0.25, 10/0.25)\n",
    "compare(analytic_comp)"
   ]
  },
  {
   "cell_type": "code",
   "execution_count": 30,
   "metadata": {
    "collapsed": false
   },
   "outputs": [
    {
     "data": {
      "text/plain": [
       "[0.62181583070179447,\n",
       " 1.0652677454118185,\n",
       " 1.4796327091107075,\n",
       " 1.8508736665671786]"
      ]
     },
     "execution_count": 30,
     "metadata": {},
     "output_type": "execute_result"
    }
   ],
   "source": [
    "results = []\n",
    "for i in range(len(analytic_comp)):\n",
    "    results.append(twoe[i][i]/2) \n",
    "sorted(results)[1:5]"
   ]
  },
  {
   "cell_type": "code",
   "execution_count": 31,
   "metadata": {
    "collapsed": false
   },
   "outputs": [
    {
     "data": {
      "text/plain": [
       "0.50946708771288485"
      ]
     },
     "execution_count": 31,
     "metadata": {},
     "output_type": "execute_result"
    }
   ],
   "source": [
    "abs(results[1]-0.6250)/(0.6250)*100"
   ]
  },
  {
   "cell_type": "markdown",
   "metadata": {},
   "source": [
    "This shows that my eigenvalue solver yields a ground state energy within 0.5% of the expected analytic result proposed by Taut. $\\omega = 0.25$. I adjusted my $\\rho_{max}$ by dividing by the value of omega that I chose. The results gave the low percent difference displayed above."
   ]
  },
  {
   "cell_type": "code",
   "execution_count": 32,
   "metadata": {
    "collapsed": false
   },
   "outputs": [
    {
     "name": "stdout",
     "output_type": "stream",
     "text": [
      "2.127509117126465\n"
     ]
    },
    {
     "data": {
      "text/plain": [
       "array([[   2.95926542,    0.        ,    0.        , ...,    0.        ,\n",
       "           0.        ,    0.        ],\n",
       "       [   0.        ,    1.24363166,    0.        , ...,    0.        ,\n",
       "           0.        ,    0.        ],\n",
       "       [   0.        ,    0.        ,    4.29980673, ...,    0.        ,\n",
       "           0.        ,    0.        ],\n",
       "       ..., \n",
       "       [   0.        ,    0.        ,    0.        , ...,   96.97208735,\n",
       "           0.        ,    0.        ],\n",
       "       [   0.        ,    0.        ,    0.        , ...,    0.        ,\n",
       "         102.21891523,    0.        ],\n",
       "       [   0.        ,    0.        ,    0.        , ...,    0.        ,\n",
       "           0.        ,    0.        ]])"
      ]
     },
     "execution_count": 32,
     "metadata": {},
     "output_type": "execute_result"
    }
   ],
   "source": [
    "jacobi_iteration(analytic_comp)"
   ]
  },
  {
   "cell_type": "code",
   "execution_count": 33,
   "metadata": {
    "collapsed": false
   },
   "outputs": [
    {
     "name": "stdout",
     "output_type": "stream",
     "text": [
      "-3.74700270811e-16\n",
      "-1.69309011255e-15\n",
      "1.69309011255e-15\n",
      "1.29063426613e-15\n",
      "-1.22124532709e-15\n",
      "7.49400541622e-16\n",
      "1.38083988688e-15\n",
      "-7.21644966006e-16\n",
      "9.15933995316e-16\n",
      "3.60822483003e-16\n",
      "3.88578058619e-16\n",
      "4.99600361081e-16\n",
      "2.91433543964e-16\n",
      "1.22124532709e-15\n",
      "1.36002320517e-15\n",
      "-1.80411241502e-16\n",
      "5.13478148889e-16\n",
      "-3.33066907388e-16\n",
      "3.26128013484e-16\n",
      "8.32667268469e-16\n",
      "2.98372437868e-16\n",
      "-7.49400541622e-16\n",
      "5.20417042793e-16\n",
      "1.80411241502e-16\n",
      "-6.80011602583e-16\n",
      "-7.2858385991e-16\n",
      "1.92554305833e-16\n",
      "2.15105711021e-16\n",
      "4.33680868994e-16\n",
      "4.85722573274e-17\n",
      "-3.46944695195e-16\n",
      "2.53269627493e-16\n",
      "0.0\n",
      "-8.73433270154e-16\n",
      "7.4593109467e-17\n",
      "1.73472347598e-17\n",
      "1.30104260698e-16\n",
      "2.18575157973e-16\n",
      "-5.06539254985e-16\n",
      "-4.51028103754e-17\n",
      "7.33788030338e-16\n",
      "-2.77555756156e-17\n",
      "-7.5460471205e-17\n",
      "1.31838984174e-16\n",
      "3.81639164715e-17\n",
      "2.45463371851e-16\n",
      "1.57859836314e-16\n",
      "1.23165366794e-16\n",
      "-5.37764277553e-17\n",
      "7.82360287666e-16\n",
      "-8.15320033709e-17\n",
      "-1.08593689596e-15\n",
      "6.76542155631e-17\n",
      "-7.97972798949e-17\n",
      "6.94756752129e-16\n",
      "9.77950359582e-17\n",
      "1.25767452008e-16\n",
      "-1.99493199737e-16\n",
      "-2.09901540593e-16\n",
      "-1.70002900646e-16\n",
      "-4.76181594156e-16\n",
      "-4.48859699409e-17\n",
      "4.33680868994e-17\n",
      "5.26488574959e-16\n",
      "-1.7889335846e-16\n",
      "1.56125112838e-16\n",
      "-6.59194920871e-17\n",
      "-7.92009687001e-17\n",
      "4.49293380278e-16\n",
      "-3.24610130442e-16\n",
      "4.28043017697e-16\n",
      "-1.73906028467e-16\n",
      "3.52148865623e-16\n",
      "-8.11525326105e-17\n",
      "5.63785129692e-18\n",
      "-4.06331869193e-16\n",
      "2.25026160899e-16\n",
      "7.8062556419e-17\n",
      "-6.71703903436e-16\n",
      "2.99510850149e-16\n",
      "1.69135538908e-17\n",
      "-7.18148414e-17\n",
      "-7.69919067736e-16\n",
      "1.51788304148e-17\n",
      "-3.76258811434e-16\n",
      "-5.1609378663e-16\n",
      "4.77320006437e-17\n",
      "1.86969309392e-15\n",
      "-3.09903944412e-16\n",
      "-2.42319185551e-17\n",
      "1.09958429081e-16\n",
      "-4.71603381076e-16\n",
      "-1.66967134563e-17\n",
      "1.94770144023e-16\n",
      "2.64623257118e-16\n",
      "6.48488424418e-17\n",
      "4.61836244161e-16\n",
      "-2.98484246217e-16\n",
      "-8.65464384187e-17\n",
      "-1.48190108188e-16\n",
      "-4.04522606818e-16\n",
      "1.25631926737e-17\n",
      "-1.86977440909e-16\n",
      "-2.94554013342e-16\n",
      "3.10352871874e-18\n",
      "-1.07674828255e-16\n",
      "1.61132771622e-16\n",
      "-5.45218167489e-17\n",
      "-9.71201201058e-16\n",
      "-4.36177922123e-16\n",
      "-4.82876542571e-17\n",
      "4.63970767188e-16\n",
      "1.74559937902e-16\n",
      "-8.13151629364e-19\n",
      "-4.48249835687e-17\n",
      "1.05292971607e-15\n",
      "6.45642393715e-17\n",
      "-4.60731713198e-16\n",
      "-2.43774388154e-16\n",
      "4.8111471404e-18\n",
      "2.56983019933e-16\n",
      "2.99968247941e-16\n",
      "2.29579810024e-17\n",
      "-4.38015401283e-16\n",
      "7.50620269066e-16\n",
      "-1.12452094077e-17\n",
      "8.37654492583e-16\n",
      "1.05812541617e-15\n",
      "-5.57347679293e-19\n",
      "-2.1496531531e-16\n",
      "6.45628841188e-16\n",
      "2.07658597349e-17\n",
      "8.24588813495e-15\n",
      "-8.73987229702e-16\n",
      "-3.03966243452e-17\n",
      "2.18241294643e-16\n",
      "-1.40193270133e-16\n",
      "1.40455003314e-17\n",
      "1.59969742446e-16\n",
      "5.4707359316e-16\n",
      "2.83180054926e-17\n",
      "3.8401535683e-17\n",
      "-2.28209734232e-16\n",
      "2.79283703369e-17\n",
      "7.21297277179e-16\n",
      "9.55724215046e-17\n",
      "8.24586574152e-18\n",
      "5.87644783885e-16\n",
      "6.14471581256e-16\n",
      "6.22569216232e-19\n",
      "-1.82741353701e-15\n",
      "8.52237117682e-16\n",
      "1.23836216889e-18\n",
      "6.69446547397e-16\n",
      "3.38000027272e-16\n",
      "6.85249654329e-19\n",
      "-2.33421998456e-15\n",
      "-1.45228881004e-15\n",
      "3.44403596354e-18\n",
      "-1.17206268988e-15\n",
      "-1.49869266303e-15\n",
      "-4.80267681093e-19\n",
      "2.79139026171e-15\n",
      "1.29182688852e-16\n",
      "3.0527067419e-18\n",
      "-9.77819311012e-16\n",
      "6.13604219518e-16\n",
      "1.62884435757e-18\n",
      "8.30872696821e-16\n",
      "-7.93581780151e-16\n",
      "2.69102367343e-18\n",
      "-2.83682345464e-16\n",
      "1.07205910815e-15\n",
      "2.44170481936e-18\n",
      "4.27279841012e-16\n",
      "1.01709005801e-15\n",
      "1.67003133463e-18\n",
      "8.25221848863e-17\n",
      "-3.68628738645e-17\n",
      "-3.13118963842e-18\n",
      "-3.65690910747e-16\n",
      "-7.53102035897e-16\n",
      "1.03488669834e-18\n",
      "2.43346128296e-15\n",
      "-1.79327039329e-16\n",
      "2.74113179339e-20\n",
      "-3.36986128834e-15\n",
      "1.01795741975e-15\n",
      "-4.1047770835e-18\n",
      "1.0922828668e-16\n",
      "3.69332824856e-16\n",
      "1.67564954535e-18\n",
      "1.65561710409e-15\n",
      "-3.02218642428e-17\n",
      "4.6586812099e-20\n",
      "-3.51312255514e-15\n",
      "8.62566042582e-17\n",
      "-4.00646584051e-19\n",
      "9.60171389327e-16\n",
      "-2.19015919508e-16\n",
      "3.21872519957e-19\n",
      "9.12113029691e-16\n",
      "5.6610931059e-16\n",
      "-1.28749007983e-19\n",
      "-9.07728787156e-16\n",
      "6.90486211463e-16\n",
      "2.20228566286e-20\n",
      "-1.51261873171e-15\n",
      "5.07829265122e-16\n",
      "3.18484388168e-19\n",
      "7.91803857994e-16\n",
      "-7.97117431072e-16\n",
      "1.71100655345e-19\n",
      "-5.37170507457e-16\n",
      "7.90104919027e-17\n",
      "-4.98055372986e-19\n",
      "-5.17288950119e-16\n",
      "1.03802975522e-15\n",
      "-7.58094487793e-19\n",
      "-3.52859526266e-16\n",
      "1.517898439e-15\n",
      "-5.4294811919e-19\n",
      "-1.02810995665e-15\n",
      "2.98706221397e-16\n",
      "7.70799982001e-20\n",
      "1.37149880754e-16\n",
      "-1.20495567099e-16\n",
      "7.19978005166e-20\n",
      "-4.49966771471e-16\n",
      "1.54543798744e-16\n",
      "1.02490986618e-19\n",
      "-2.96835920102e-15\n",
      "1.34546022064e-16\n",
      "-2.7170529535e-19\n",
      "-2.08337833069e-15\n",
      "7.27997339225e-16\n",
      "-1.40033693474e-19\n",
      "3.3087478612e-15\n",
      "-3.46220207401e-16\n",
      "-3.96612918574e-19\n",
      "9.41411899336e-16\n",
      "4.13824415339e-16\n",
      "-4.42151198467e-19\n",
      "-1.18716749755e-15\n",
      "-1.21830345318e-16\n",
      "4.64174055095e-19\n",
      "-2.06793353193e-15\n",
      "-3.36945409454e-16\n",
      "-2.6850944428e-19\n",
      "1.81892617423e-15\n",
      "2.89403731677e-16\n",
      "-2.87144169119e-19\n",
      "-1.22159515169e-15\n",
      "-3.45301270203e-18\n",
      "9.74087889342e-20\n",
      "1.22066341545e-15\n",
      "5.21917513616e-16\n",
      "1.69406589451e-21\n",
      "6.8170058628e-17\n",
      "2.99032058081e-16\n",
      "2.14299335655e-19\n",
      "4.22303522447e-16\n",
      "4.24928299654e-16\n",
      "4.319868031e-20\n",
      "1.32431737831e-15\n",
      "-4.47324694498e-16\n",
      "-8.47032947254e-22\n",
      "3.912512946e-16\n",
      "5.66329379126e-16\n",
      "-1.18584612616e-19\n",
      "-1.57673150252e-15\n",
      "9.0508313315e-16\n",
      "-7.45388993584e-20\n",
      "1.95041109863e-15\n",
      "4.90502062293e-16\n",
      "-5.25160427298e-20\n",
      "-1.62412214889e-15\n",
      "5.91652489779e-17\n",
      "2.43098455862e-19\n",
      "-3.44678882061e-16\n",
      "-7.12540079364e-17\n",
      "-4.2266944068e-19\n",
      "-1.53634158347e-15\n",
      "6.22222869751e-16\n",
      "1.73641754187e-19\n",
      "2.35122793631e-16\n",
      "4.77319314914e-16\n",
      "1.56205870252e-19\n",
      "1.91818657719e-15\n",
      "-4.24302847766e-16\n",
      "2.3417584267e-20\n",
      "-1.3892729469e-15\n",
      "-5.48439566136e-16\n",
      "-1.19860561278e-19\n",
      "-7.33887133193e-16\n",
      "-1.69052122044e-15\n",
      "1.23499619573e-19\n",
      "1.96819963756e-15\n",
      "-1.5966925056e-15\n",
      "-9.68768998854e-20\n",
      "5.21665569357e-16\n",
      "5.33027364909e-16\n",
      "8.11856249581e-20\n",
      "-2.82822607022e-16\n",
      "1.06569254713e-15\n",
      "9.506718779e-20\n",
      "-4.43230318442e-16\n",
      "-5.50893188974e-16\n",
      "7.52076008695e-20\n",
      "1.58002984882e-16\n",
      "-1.6611139008e-15\n",
      "-1.24448014937e-19\n",
      "-5.01442657742e-16\n",
      "4.16270308595e-16\n",
      "8.72227414179e-20\n",
      "2.6210282588e-15\n",
      "-1.35509524027e-15\n",
      "8.54685893893e-21\n",
      "-1.39535464346e-15\n",
      "-1.3357021761e-15\n",
      "-2.71595911317e-20\n",
      "-1.94947766832e-15\n",
      "-4.2091988751e-16\n",
      "8.657796289e-20\n",
      "-1.50798461446e-15\n",
      "-5.17564404572e-16\n",
      "8.12149135838e-20\n",
      "2.31295729368e-15\n",
      "-8.31927041082e-17\n",
      "6.70338003616e-20\n",
      "1.31849656789e-15\n",
      "-1.32936246867e-15\n",
      "-2.5502087375e-20\n",
      "-1.34051942452e-15\n",
      "-7.81633106572e-16\n",
      "-8.22994410709e-20\n",
      "1.38771087803e-20\n",
      "-8.97905848637e-16\n",
      "1.58171224755e-21\n",
      "1.79684023999e-19\n",
      "1.27430649508e-15\n",
      "-2.22001223326e-21\n",
      "-2.78869268515e-21\n",
      "-1.55800011336e-15\n",
      "1.23456818757e-21\n",
      "2.01215124309e-21\n",
      "-6.57007461594e-16\n",
      "1.73624718957e-21\n",
      "-6.55590050471e-20\n",
      "3.3058709932e-16\n",
      "4.01766101723e-22\n",
      "6.22647494299e-20\n",
      "1.37896854625e-16\n",
      "1.5559830695e-21\n",
      "-2.64519686173e-19\n",
      "1.00863801254e-15\n",
      "2.23499384412e-21\n",
      "-1.88043757068e-20\n",
      "8.73896216673e-16\n",
      "3.20155719192e-21\n",
      "-9.27920230004e-20\n",
      "-1.30962035744e-15\n",
      "3.17207463261e-21\n",
      "1.56983569814e-19\n",
      "8.12020542595e-17\n",
      "-2.43660433833e-21\n",
      "2.857073465e-19\n",
      "6.12584828601e-16\n",
      "-9.8296972981e-22\n",
      "4.26266408697e-20\n",
      "-9.92083784432e-16\n",
      "4.71872888233e-23\n",
      "-1.14429772556e-19\n",
      "-4.03843282901e-16\n",
      "3.47736387235e-23\n",
      "-6.80993985444e-21\n",
      "-8.42304851804e-16\n",
      "-5.8121125795e-23\n",
      "9.82954986059e-20\n",
      "-8.90327166666e-16\n",
      "-4.14203503635e-23\n",
      "1.53918509562e-19\n",
      "-6.42162558827e-16\n",
      "-1.90023029971e-22\n",
      "2.78522745786e-20\n",
      "-1.4333336586e-15\n",
      "2.96187545632e-23\n",
      "-1.18388968118e-19\n",
      "-1.95577566931e-15\n",
      "-4.88141195917e-23\n",
      "-1.26389568095e-19\n",
      "5.90995480788e-16\n",
      "3.80282579374e-23\n",
      "8.35808876672e-20\n",
      "-1.75426332831e-15\n",
      "1.81656522672e-22\n",
      "-1.0199723723e-19\n",
      "8.52406699634e-16\n",
      "2.09478416176e-22\n",
      "-4.28021542086e-20\n",
      "-3.52692763346e-16\n",
      "6.00739541213e-23\n",
      "1.26119214731e-19\n",
      "-1.76833081841e-15\n",
      "1.54293891365e-22\n",
      "1.11589747107e-19\n",
      "1.63046930425e-15\n",
      "7.08496804907e-23\n",
      "-1.09768553301e-19\n",
      "1.41138768013e-15\n",
      "1.23177506461e-22\n",
      "-1.25058510453e-19\n",
      "-1.8436905324e-15\n",
      "5.02283578681e-23\n",
      "-1.9212954129e-21\n",
      "-1.41549446975e-15\n",
      "7.41927531002e-23\n",
      "-4.44415512143e-22\n",
      "4.25976545165e-16\n",
      "5.06100529503e-23\n",
      "3.3183102179e-20\n",
      "1.92247051911e-15\n",
      "-6.39875877355e-23\n",
      "1.5365894414e-19\n",
      "2.79908747509e-16\n",
      "3.56230778354e-23\n",
      "5.59331898771e-21\n",
      "-2.04398690466e-15\n",
      "1.98953623305e-23\n",
      "4.74980623171e-21\n",
      "-1.61158103201e-16\n",
      "-3.15603999973e-23\n",
      "4.935879468917847\n"
     ]
    },
    {
     "data": {
      "text/plain": [
       "array([[   2.95926542,    0.        ,    0.        , ...,    0.        ,\n",
       "           0.        ,    0.        ],\n",
       "       [   0.        ,    1.24363166,    0.        , ...,    0.        ,\n",
       "           0.        ,    0.        ],\n",
       "       [   0.        ,    0.        ,    4.29980673, ...,    0.        ,\n",
       "           0.        ,    0.        ],\n",
       "       ..., \n",
       "       [   0.        ,    0.        ,    0.        , ...,   96.97208735,\n",
       "           0.        ,    0.        ],\n",
       "       [   0.        ,    0.        ,    0.        , ...,    0.        ,\n",
       "         102.21891523,    0.        ],\n",
       "       [   0.        ,    0.        ,    0.        , ...,    0.        ,\n",
       "           0.        ,    0.        ]])"
      ]
     },
     "execution_count": 33,
     "metadata": {},
     "output_type": "execute_result"
    }
   ],
   "source": [
    "jacobi_iteration_ortho(analytic_comp)"
   ]
  },
  {
   "cell_type": "markdown",
   "metadata": {},
   "source": [
    "Testing the preservation of orthogonality with the matrix we used to do the analytic comparison, we see that the orhtogonality is preserved across multiple transformation as the inner product between the vectors of the matrix remains $\\approx$0. Tested every 5 iterations."
   ]
  },
  {
   "cell_type": "code",
   "execution_count": 34,
   "metadata": {
    "collapsed": false
   },
   "outputs": [
    {
     "name": "stderr",
     "output_type": "stream",
     "text": [
      "/home/nathawkins/anaconda3/lib/python3.6/site-packages/ipykernel/__main__.py:19: RuntimeWarning: divide by zero encountered in double_scalars\n"
     ]
    },
    {
     "name": "stdout",
     "output_type": "stream",
     "text": [
      "0.49102210998535156\n"
     ]
    },
    {
     "data": {
      "text/plain": [
       "([0.32624366347803013,\n",
       "  0.44957225459292482,\n",
       "  0.73852638171662577,\n",
       "  1.181544786516008],\n",
       " array([ 0.32624366+0.j,  0.44957225+0.j,  0.73852638+0.j,  1.18154479+0.j,\n",
       "         1.76317250+0.j]))"
      ]
     },
     "execution_count": 34,
     "metadata": {},
     "output_type": "execute_result"
    }
   ],
   "source": [
    "omegapto5 = interaction_matrix(40,0.05,10/(0.05))\n",
    "compare(omegapto5)"
   ]
  },
  {
   "cell_type": "code",
   "execution_count": 35,
   "metadata": {
    "collapsed": false
   },
   "outputs": [
    {
     "data": {
      "text/plain": [
       "0.16312183173901507"
      ]
     },
     "execution_count": 35,
     "metadata": {},
     "output_type": "execute_result"
    }
   ],
   "source": [
    "0.32624366347803013/2"
   ]
  },
  {
   "cell_type": "markdown",
   "metadata": {},
   "source": [
    "We see that dividing the lowest energy by 2, as we have done in comparing to Taut's results, we get a value of 0.163. The expected value of for the analytic results is 0.175. I am trying to make sure I scale my rhomax value properly prior to this."
   ]
  },
  {
   "cell_type": "code",
   "execution_count": 36,
   "metadata": {
    "collapsed": false
   },
   "outputs": [
    {
     "name": "stderr",
     "output_type": "stream",
     "text": [
      "/home/nathawkins/anaconda3/lib/python3.6/site-packages/ipykernel/__main__.py:19: RuntimeWarning: divide by zero encountered in double_scalars\n"
     ]
    },
    {
     "name": "stdout",
     "output_type": "stream",
     "text": [
      "0.6615753173828125\n"
     ]
    },
    {
     "data": {
      "text/plain": [
       "([0.34191142656886303,\n",
       "  0.46022952063811484,\n",
       "  0.59454058849937719,\n",
       "  0.86279472886398778],\n",
       " array([ 0.34191143+0.j,  0.46022952+0.j,  0.59454059+0.j,  0.86279473+0.j,\n",
       "         1.22776120+0.j]))"
      ]
     },
     "execution_count": 36,
     "metadata": {},
     "output_type": "execute_result"
    }
   ],
   "source": [
    "omegapto5 = interaction_matrix(40,0.05,8/(0.05))\n",
    "compare(omegapto5)"
   ]
  },
  {
   "cell_type": "code",
   "execution_count": 37,
   "metadata": {
    "collapsed": false
   },
   "outputs": [
    {
     "data": {
      "text/plain": [
       "0.17095571328443152"
      ]
     },
     "execution_count": 37,
     "metadata": {},
     "output_type": "execute_result"
    }
   ],
   "source": [
    "0.34191142656886303/2"
   ]
  },
  {
   "cell_type": "markdown",
   "metadata": {},
   "source": [
    "I rescaled rhomax to 8 divded by the value of omega, instead of 10. This is just trying to figure out the numerical pattern for rescaling. I will stick to using 10 for my rhomax value for the sake of continuity with earlier results."
   ]
  },
  {
   "cell_type": "code",
   "execution_count": 38,
   "metadata": {
    "collapsed": false
   },
   "outputs": [
    {
     "name": "stderr",
     "output_type": "stream",
     "text": [
      "/home/nathawkins/anaconda3/lib/python3.6/site-packages/ipykernel/__main__.py:19: RuntimeWarning: divide by zero encountered in double_scalars\n"
     ]
    },
    {
     "name": "stdout",
     "output_type": "stream",
     "text": [
      "0.23055410385131836\n"
     ]
    },
    {
     "data": {
      "text/plain": [
       "([0.10793181717519947,\n",
       "  0.28569133616656212,\n",
       "  0.60791831887495773,\n",
       "  1.0648907748492762],\n",
       " array([ 0.10793182+0.j,  0.28569134+0.j,  0.60791832+0.j,  1.06489077+0.j,\n",
       "         1.65465628+0.j]))"
      ]
     },
     "execution_count": 38,
     "metadata": {},
     "output_type": "execute_result"
    }
   ],
   "source": [
    "omegapt001 = interaction_matrix(40,0.01,10/(0.01))\n",
    "compare(omegapt001)"
   ]
  },
  {
   "cell_type": "code",
   "execution_count": 39,
   "metadata": {
    "collapsed": false
   },
   "outputs": [
    {
     "name": "stderr",
     "output_type": "stream",
     "text": [
      "/home/nathawkins/anaconda3/lib/python3.6/site-packages/ipykernel/__main__.py:19: RuntimeWarning: divide by zero encountered in double_scalars\n"
     ]
    },
    {
     "name": "stdout",
     "output_type": "stream",
     "text": [
      "4.419395446777344\n"
     ]
    },
    {
     "data": {
      "text/plain": [
       "([2.2399268679658735,\n",
       "  4.1174393365992223,\n",
       "  5.9590685731262019,\n",
       "  7.741921708641911],\n",
       " array([ 2.23992687+0.j,  4.11743934+0.j,  5.95906857+0.j,  7.74192171+0.j,\n",
       "         9.45281960+0.j]))"
      ]
     },
     "execution_count": 39,
     "metadata": {},
     "output_type": "execute_result"
    }
   ],
   "source": [
    "omegapt5 = interaction_matrix(40,0.5,10/(0.5))\n",
    "compare(omegapt5)"
   ]
  },
  {
   "cell_type": "code",
   "execution_count": 40,
   "metadata": {
    "collapsed": false
   },
   "outputs": [
    {
     "name": "stderr",
     "output_type": "stream",
     "text": [
      "/home/nathawkins/anaconda3/lib/python3.6/site-packages/ipykernel/__main__.py:19: RuntimeWarning: divide by zero encountered in double_scalars\n"
     ]
    },
    {
     "name": "stdout",
     "output_type": "stream",
     "text": [
      "5.982994794845581\n"
     ]
    },
    {
     "data": {
      "text/plain": [
       "([4.1020689176256733,\n",
       "  7.9784216514480439,\n",
       "  11.844207893208674,\n",
       "  15.666625238869045],\n",
       " array([  4.10206892+0.j,   7.97842165+0.j,  11.84420789+0.j,\n",
       "         15.66662524+0.j,  19.43180805+0.j]))"
      ]
     },
     "execution_count": 40,
     "metadata": {},
     "output_type": "execute_result"
    }
   ],
   "source": [
    "omega1 = interaction_matrix(40,1,10/(1))\n",
    "compare(omega1)"
   ]
  },
  {
   "cell_type": "code",
   "execution_count": 41,
   "metadata": {
    "collapsed": false
   },
   "outputs": [
    {
     "name": "stderr",
     "output_type": "stream",
     "text": [
      "/home/nathawkins/anaconda3/lib/python3.6/site-packages/ipykernel/__main__.py:19: RuntimeWarning: divide by zero encountered in double_scalars\n"
     ]
    },
    {
     "name": "stdout",
     "output_type": "stream",
     "text": [
      "7.174736022949219\n"
     ]
    },
    {
     "data": {
      "text/plain": [
       "([17.783609695904079,\n",
       "  37.843376167543198,\n",
       "  58.02222919663059,\n",
       "  78.563352727938891],\n",
       " array([  17.78360970+0.j,   37.84337617+0.j,   58.02222920+0.j,\n",
       "          78.56335273+0.j,  100.80242047+0.j]))"
      ]
     },
     "execution_count": 41,
     "metadata": {},
     "output_type": "execute_result"
    }
   ],
   "source": [
    "omega5 = interaction_matrix(40,5,10/5)\n",
    "compare(omega5)"
   ]
  },
  {
   "cell_type": "code",
   "execution_count": null,
   "metadata": {
    "collapsed": true
   },
   "outputs": [],
   "source": []
  }
 ],
 "metadata": {
  "anaconda-cloud": {},
  "kernelspec": {
   "display_name": "Python 3",
   "language": "python",
   "name": "python3"
  },
  "language_info": {
   "codemirror_mode": {
    "name": "ipython",
    "version": 3
   },
   "file_extension": ".py",
   "mimetype": "text/x-python",
   "name": "python",
   "nbconvert_exporter": "python",
   "pygments_lexer": "ipython3",
   "version": "3.6.0"
  }
 },
 "nbformat": 4,
 "nbformat_minor": 1
}
