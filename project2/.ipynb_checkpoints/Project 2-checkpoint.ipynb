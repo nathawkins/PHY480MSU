{
 "cells": [
  {
   "cell_type": "code",
   "execution_count": 1,
   "metadata": {
    "collapsed": true
   },
   "outputs": [],
   "source": [
    "import time\n",
    "import matplotlib.pyplot as plt\n",
    "%matplotlib inline\n",
    "import numpy as np\n",
    "from scipy import linalg as la\n",
    "import pandas"
   ]
  },
  {
   "cell_type": "code",
   "execution_count": 145,
   "metadata": {
    "collapsed": false
   },
   "outputs": [
    {
     "name": "stdout",
     "output_type": "stream",
     "text": [
      "[(3.0142860321665514+0j), (7.0312280132869676+0j), (11.045640629571317+0j), (15.057521484839787+0j)]\n"
     ]
    }
   ],
   "source": [
    "#This cell will create the array\n",
    "\n",
    "#define the size of the system\n",
    "n = 200\n",
    "\n",
    "#define values\n",
    "omega = 1\n",
    "\n",
    "A = np.zeros(shape=(n,n))\n",
    "V = np.zeros(n)\n",
    "\n",
    "#harmonic oscillation potential\n",
    "#rho max is 10, rho0 is 0\n",
    "p = np.linspace(0,10,n)\n",
    "for i in range(n):\n",
    "    V[i] = p[i]**2\n",
    "    \n",
    "#define step size\n",
    "h = (p[-1]- p[0])/n\n",
    "\n",
    "#create the matrix A    \n",
    "const = -1/(h**2)\n",
    "const2 = 2/(h**2)\n",
    "\n",
    "#Make Matrix A\n",
    "\n",
    "#we evaluate until n-1 so that we eliminate the issues of indexing with the endpoints\n",
    "A[0][0] = const2+V[0]\n",
    "for i in range(n-1):\n",
    "    A[i][i] = const2+V[i+1]\n",
    "    \n",
    "#index until n-2 to avoid the rox and column associated with the endpoint which we are trying to ignore\n",
    "for i in range(n-2):\n",
    "    A[i][i+1] = const\n",
    "    A[i+1][i] = const\n",
    "\n",
    "\n",
    "\n",
    "eigenvalues = la.eigvals(A)\n",
    "print(sorted(eigenvalues)[1:5])"
   ]
  },
  {
   "cell_type": "markdown",
   "metadata": {},
   "source": [
    "The above using scipy.linalg.eigvals to solve for the eigenvalues of the matrix, A."
   ]
  },
  {
   "cell_type": "code",
   "execution_count": null,
   "metadata": {
    "collapsed": true
   },
   "outputs": [],
   "source": []
  }
 ],
 "metadata": {
  "anaconda-cloud": {},
  "kernelspec": {
   "display_name": "Python [default]",
   "language": "python",
   "name": "python3"
  },
  "language_info": {
   "codemirror_mode": {
    "name": "ipython",
    "version": 3
   },
   "file_extension": ".py",
   "mimetype": "text/x-python",
   "name": "python",
   "nbconvert_exporter": "python",
   "pygments_lexer": "ipython3",
   "version": "3.5.2"
  }
 },
 "nbformat": 4,
 "nbformat_minor": 1
}
