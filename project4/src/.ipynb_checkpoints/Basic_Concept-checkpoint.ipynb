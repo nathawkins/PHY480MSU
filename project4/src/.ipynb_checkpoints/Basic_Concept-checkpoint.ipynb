{
 "cells": [
  {
   "cell_type": "code",
   "execution_count": 12,
   "metadata": {
    "collapsed": true
   },
   "outputs": [],
   "source": [
    "import matplotlib.pyplot as plt\n",
    "%matplotlib inline\n",
    "import math as m\n",
    "import numpy as np\n",
    "import random\n",
    "import copy"
   ]
  },
  {
   "cell_type": "code",
   "execution_count": 28,
   "metadata": {
    "collapsed": true
   },
   "outputs": [],
   "source": [
    "def makeagents(N, money):\n",
    "    agents = np.zeros(N)\n",
    "    for i in range(len(agents)):\n",
    "        agents[i] = money\n",
    "    return agents"
   ]
  },
  {
   "cell_type": "code",
   "execution_count": 29,
   "metadata": {
    "collapsed": false
   },
   "outputs": [
    {
     "data": {
      "text/plain": [
       "array([ 10.,  10.,  10.,  10.,  10.,  10.,  10.,  10.,  10.,  10.])"
      ]
     },
     "execution_count": 29,
     "metadata": {},
     "output_type": "execute_result"
    }
   ],
   "source": [
    "example = makeagents(10,10)\n",
    "example"
   ]
  },
  {
   "cell_type": "code",
   "execution_count": 59,
   "metadata": {
    "collapsed": true
   },
   "outputs": [],
   "source": [
    "def transactions(agent_array, tr_num):\n",
    "    people = copy.copy(agent_array)\n",
    "    current = 0\n",
    "    money = agent_array[0]\n",
    "    while current <= tr_num:\n",
    "        random.seed()\n",
    "        i = random.randint(0,len(agent_array)-1)\n",
    "        j = random.randint(0,len(agent_array)-1)\n",
    "        prob = random.randint(0,100)\n",
    "        how_much = random.randint(0,money)\n",
    "        #print(how_much)\n",
    "        if people[i]>0 and people[j]>0 and people[i]-how_much>=0 and people[j]-how_much>=0:\n",
    "            if prob < 50:\n",
    "                people[i] += how_much\n",
    "                people[j] -= how_much\n",
    "            if prob > 50:\n",
    "                people[i] -= how_much\n",
    "                people[j] += how_much\n",
    "        else:\n",
    "            continue\n",
    "        current += 1\n",
    "        \n",
    "    return people"
   ]
  },
  {
   "cell_type": "code",
   "execution_count": 62,
   "metadata": {
    "collapsed": false
   },
   "outputs": [
    {
     "data": {
      "text/plain": [
       "array([  0.,   0.,  26.,  72.,   0.,   1.,   1.,   0.,   0.,   0.])"
      ]
     },
     "execution_count": 62,
     "metadata": {},
     "output_type": "execute_result"
    }
   ],
   "source": [
    "transactions(example,100)"
   ]
  },
  {
   "cell_type": "code",
   "execution_count": null,
   "metadata": {
    "collapsed": true
   },
   "outputs": [],
   "source": []
  }
 ],
 "metadata": {
  "anaconda-cloud": {},
  "kernelspec": {
   "display_name": "Python [default]",
   "language": "python",
   "name": "python3"
  },
  "language_info": {
   "codemirror_mode": {
    "name": "ipython",
    "version": 3
   },
   "file_extension": ".py",
   "mimetype": "text/x-python",
   "name": "python",
   "nbconvert_exporter": "python",
   "pygments_lexer": "ipython3",
   "version": "3.5.2"
  }
 },
 "nbformat": 4,
 "nbformat_minor": 1
}
