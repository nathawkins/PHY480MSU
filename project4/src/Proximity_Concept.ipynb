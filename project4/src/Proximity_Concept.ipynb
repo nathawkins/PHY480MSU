{
 "cells": [
  {
   "cell_type": "code",
   "execution_count": 1,
   "metadata": {
    "collapsed": true
   },
   "outputs": [],
   "source": [
    "import matplotlib.pyplot as plt\n",
    "%matplotlib inline\n",
    "import matplotlib.mlab as mlab\n",
    "import math as m\n",
    "import numpy as np\n",
    "import random\n",
    "import copy"
   ]
  },
  {
   "cell_type": "code",
   "execution_count": 2,
   "metadata": {
    "collapsed": true
   },
   "outputs": [],
   "source": [
    "def makeagents(N, money):\n",
    "    agents = np.zeros(N)\n",
    "    for i in range(len(agents)):\n",
    "        agents[i] = money\n",
    "    return agents"
   ]
  },
  {
   "cell_type": "code",
   "execution_count": 3,
   "metadata": {
    "collapsed": true
   },
   "outputs": [],
   "source": [
    "def tr_nearest(agent_array, tr_num,a):\n",
    "    people = copy.copy(agent_array)\n",
    "    current = 0\n",
    "    while current <= tr_num:\n",
    "        i,j = random.sample(range(0, len(agent_array)-1),2)\n",
    "        #print(i,j)\n",
    "        m_i = people[i]\n",
    "        m_j = people[j]\n",
    "        #print(m_i,m_j)\n",
    "        total_m = m_i + m_j\n",
    "        diff = i-j\n",
    "        abs_diff = abs(diff)\n",
    "        prob = abs_diff**(-a)\n",
    "        #print(prob)\n",
    "        if people[i]>0 and people[j]>0:\n",
    "            people[i] = prob*total_m\n",
    "            people[j] = (1-prob)*total_m\n",
    "        else:\n",
    "            continue\n",
    "        current += 1\n",
    "    #print(total_money_begin, total_money_end)\n",
    "    \n",
    "    return people"
   ]
  },
  {
   "cell_type": "code",
   "execution_count": 16,
   "metadata": {
    "collapsed": false
   },
   "outputs": [
    {
     "data": {
      "text/plain": [
       "(array([ 382.,   48.,   38.,   14.,    9.,    4.,    1.,    2.,    0.,    2.]),\n",
       " array([    0.        ,   619.76944996,  1239.53889993,  1859.30834989,\n",
       "         2479.07779986,  3098.84724982,  3718.61669979,  4338.38614975,\n",
       "         4958.15559972,  5577.92504968,  6197.69449964]),\n",
       " <a list of 10 Patch objects>)"
      ]
     },
     "execution_count": 16,
     "metadata": {},
     "output_type": "execute_result"
    },
    {
     "data": {
      "image/png": "[encoded data removed]",
      "text/plain": [
       "<matplotlib.figure.Figure at 0x10e74a7f0>"
      ]
     },
     "metadata": {},
     "output_type": "display_data"
    }
   ],
   "source": [
    "trial_1 = tr_nearest(makeagents(500,420),1000,0.5)\n",
    "trial_2 = tr_nearest(makeagents(500,420),1000,1.0)\n",
    "trial_3 = tr_nearest(makeagents(500,420),1000,1.5)\n",
    "plt.hist(trial_1, label='alpha=0.5')\n",
    "plt.hist(trial_2, label='alpha=1.0')\n",
    "plt.hist(trial_3, label='alpha=1.5')"
   ]
  },
  {
   "cell_type": "code",
   "execution_count": null,
   "metadata": {
    "collapsed": true
   },
   "outputs": [],
   "source": []
  }
 ],
 "metadata": {
  "anaconda-cloud": {},
  "kernelspec": {
   "display_name": "Python [default]",
   "language": "python",
   "name": "python3"
  },
  "language_info": {
   "codemirror_mode": {
    "name": "ipython",
    "version": 3
   },
   "file_extension": ".py",
   "mimetype": "text/x-python",
   "name": "python",
   "nbconvert_exporter": "python",
   "pygments_lexer": "ipython3",
   "version": "3.5.2"
  }
 },
 "nbformat": 4,
 "nbformat_minor": 1
}
