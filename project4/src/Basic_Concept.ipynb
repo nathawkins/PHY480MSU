{
 "cells": [
  {
   "cell_type": "code",
   "execution_count": 1,
   "metadata": {
    "collapsed": true
   },
   "outputs": [],
   "source": [
    "import matplotlib.pyplot as plt\n",
    "%matplotlib inline\n",
    "import math as m\n",
    "import numpy as np\n",
    "import random\n",
    "import copy"
   ]
  },
  {
   "cell_type": "code",
   "execution_count": 2,
   "metadata": {
    "collapsed": true
   },
   "outputs": [],
   "source": [
    "def makeagents(N, money):\n",
    "    agents = np.zeros(N)\n",
    "    for i in range(len(agents)):\n",
    "        agents[i] = money\n",
    "    return agents"
   ]
  },
  {
   "cell_type": "code",
   "execution_count": 3,
   "metadata": {
    "collapsed": false
   },
   "outputs": [
    {
     "data": {
      "text/plain": [
       "array([ 10.,  10.,  10.,  10.,  10.,  10.,  10.,  10.,  10.,  10.])"
      ]
     },
     "execution_count": 3,
     "metadata": {},
     "output_type": "execute_result"
    }
   ],
   "source": [
    "example = makeagents(10,10)\n",
    "example"
   ]
  },
  {
   "cell_type": "code",
   "execution_count": 14,
   "metadata": {
    "collapsed": true
   },
   "outputs": [],
   "source": [
    "def transactions(agent_array, tr_num):\n",
    "    people = copy.copy(agent_array)\n",
    "    current = 0\n",
    "    money = agent_array[0]\n",
    "    while current <= tr_num:\n",
    "        random.seed()\n",
    "        i = random.randint(0,len(agent_array)-1)\n",
    "        j = random.randint(0,len(agent_array)-1)\n",
    "        prob = random.randint(0,100)\n",
    "        how_much = random.randint(0,money)\n",
    "        #print(how_much)\n",
    "        if people[i]>0 and people[j]>0 and people[i]-how_much>=0 and people[j]-how_much>=0:\n",
    "            if prob < 50:\n",
    "                people[i] += how_much\n",
    "                people[j] -= how_much\n",
    "            if prob > 50:\n",
    "                people[i] -= how_much\n",
    "                people[j] += how_much\n",
    "        else:\n",
    "            continue\n",
    "        current += 1\n",
    "        \n",
    "    return people"
   ]
  },
  {
   "cell_type": "code",
   "execution_count": 15,
   "metadata": {
    "collapsed": false
   },
   "outputs": [
    {
     "data": {
      "text/plain": [
       "(array([ 8.,  0.,  0.,  0.,  0.,  0.,  1.,  0.,  0.,  1.]),\n",
       " array([  0. ,   5.9,  11.8,  17.7,  23.6,  29.5,  35.4,  41.3,  47.2,\n",
       "         53.1,  59. ]),\n",
       " <a list of 10 Patch objects>)"
      ]
     },
     "execution_count": 15,
     "metadata": {},
     "output_type": "execute_result"
    },
    {
     "data": {
      "image/png": "[encoded data removed]",
      "text/plain": [
       "<matplotlib.figure.Figure at 0x10e309710>"
      ]
     },
     "metadata": {},
     "output_type": "display_data"
    }
   ],
   "source": [
    "plt.hist(transactions(example,100), bins=10)"
   ]
  },
  {
   "cell_type": "code",
   "execution_count": 11,
   "metadata": {
    "collapsed": false
   },
   "outputs": [
    {
     "data": {
      "text/plain": [
       "(array([ 116.,   90.,   66.,   54.,   38.,   42.,   31.,   28.,   22.,\n",
       "          21.,   17.,   17.,   17.,   18.,   16.,   11.,   11.,   18.,\n",
       "          12.,   13.,   12.,   15.,   12.,    7.,   15.,   16.,   13.,\n",
       "          13.,    7.,    7.,    9.,   11.,   12.,    5.,   11.,    4.,\n",
       "           7.,    5.,    7.,    8.,   12.,   11.,   10.,    7.,    6.,\n",
       "           3.,   10.,    6.,   12.,    7.,    4.,    4.,    7.,    3.,\n",
       "           3.,    2.,    1.,    3.,    1.,    2.,    4.,    0.,    1.,\n",
       "           4.,    1.,    2.,    1.,    0.,    0.,    3.,    1.,    3.,\n",
       "           1.,    0.,    2.,    1.,    1.,    0.,    0.,    1.,    0.,\n",
       "           1.,    0.,    0.,    0.,    2.,    0.,    1.,    0.,    0.,\n",
       "           0.,    0.,    1.,    0.,    0.,    0.,    0.,    0.,    0.,    1.]),\n",
       " array([  2.00000000e+00,   5.82140000e+02,   1.16228000e+03,\n",
       "          1.74242000e+03,   2.32256000e+03,   2.90270000e+03,\n",
       "          3.48284000e+03,   4.06298000e+03,   4.64312000e+03,\n",
       "          5.22326000e+03,   5.80340000e+03,   6.38354000e+03,\n",
       "          6.96368000e+03,   7.54382000e+03,   8.12396000e+03,\n",
       "          8.70410000e+03,   9.28424000e+03,   9.86438000e+03,\n",
       "          1.04445200e+04,   1.10246600e+04,   1.16048000e+04,\n",
       "          1.21849400e+04,   1.27650800e+04,   1.33452200e+04,\n",
       "          1.39253600e+04,   1.45055000e+04,   1.50856400e+04,\n",
       "          1.56657800e+04,   1.62459200e+04,   1.68260600e+04,\n",
       "          1.74062000e+04,   1.79863400e+04,   1.85664800e+04,\n",
       "          1.91466200e+04,   1.97267600e+04,   2.03069000e+04,\n",
       "          2.08870400e+04,   2.14671800e+04,   2.20473200e+04,\n",
       "          2.26274600e+04,   2.32076000e+04,   2.37877400e+04,\n",
       "          2.43678800e+04,   2.49480200e+04,   2.55281600e+04,\n",
       "          2.61083000e+04,   2.66884400e+04,   2.72685800e+04,\n",
       "          2.78487200e+04,   2.84288600e+04,   2.90090000e+04,\n",
       "          2.95891400e+04,   3.01692800e+04,   3.07494200e+04,\n",
       "          3.13295600e+04,   3.19097000e+04,   3.24898400e+04,\n",
       "          3.30699800e+04,   3.36501200e+04,   3.42302600e+04,\n",
       "          3.48104000e+04,   3.53905400e+04,   3.59706800e+04,\n",
       "          3.65508200e+04,   3.71309600e+04,   3.77111000e+04,\n",
       "          3.82912400e+04,   3.88713800e+04,   3.94515200e+04,\n",
       "          4.00316600e+04,   4.06118000e+04,   4.11919400e+04,\n",
       "          4.17720800e+04,   4.23522200e+04,   4.29323600e+04,\n",
       "          4.35125000e+04,   4.40926400e+04,   4.46727800e+04,\n",
       "          4.52529200e+04,   4.58330600e+04,   4.64132000e+04,\n",
       "          4.69933400e+04,   4.75734800e+04,   4.81536200e+04,\n",
       "          4.87337600e+04,   4.93139000e+04,   4.98940400e+04,\n",
       "          5.04741800e+04,   5.10543200e+04,   5.16344600e+04,\n",
       "          5.22146000e+04,   5.27947400e+04,   5.33748800e+04,\n",
       "          5.39550200e+04,   5.45351600e+04,   5.51153000e+04,\n",
       "          5.56954400e+04,   5.62755800e+04,   5.68557200e+04,\n",
       "          5.74358600e+04,   5.80160000e+04]),\n",
       " <a list of 100 Patch objects>)"
      ]
     },
     "execution_count": 11,
     "metadata": {},
     "output_type": "execute_result"
    },
    {
     "data": {
      "image/png": "[encoded data removed]",
      "text/plain": [
       "<matplotlib.figure.Figure at 0x10aacf320>"
      ]
     },
     "metadata": {},
     "output_type": "display_data"
    }
   ],
   "source": [
    "plt.hist(transactions(makeagents(1000,10000),2500),bins=100)"
   ]
  },
  {
   "cell_type": "code",
   "execution_count": null,
   "metadata": {
    "collapsed": true
   },
   "outputs": [],
   "source": []
  }
 ],
 "metadata": {
  "anaconda-cloud": {},
  "kernelspec": {
   "display_name": "Python [default]",
   "language": "python",
   "name": "python3"
  },
  "language_info": {
   "codemirror_mode": {
    "name": "ipython",
    "version": 3
   },
   "file_extension": ".py",
   "mimetype": "text/x-python",
   "name": "python",
   "nbconvert_exporter": "python",
   "pygments_lexer": "ipython3",
   "version": "3.5.2"
  }
 },
 "nbformat": 4,
 "nbformat_minor": 1
}
