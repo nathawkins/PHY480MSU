{
 "cells": [
  {
   "cell_type": "code",
   "execution_count": null,
   "metadata": {
    "collapsed": false
   },
   "outputs": [],
   "source": [
    "%matplotlib inline\n",
    "import matplotlib.pyplot as plt\n",
    "import numpy as np\n",
    "import math as m\n",
    "from mpl_toolkits.mplot3d import Axes3D\n",
    "import VerletSolver as VS\n",
    "import Planet"
   ]
  },
  {
   "cell_type": "code",
   "execution_count": null,
   "metadata": {
    "collapsed": false
   },
   "outputs": [],
   "source": [
    "class Planet():\n",
    "    def __init__(self, name=\"Planet X\", mass=1, coordinates=[1,0,0], velocity=[0,0,0]):\n",
    "        self.mass = mass\n",
    "        self.name = name\n",
    "        self.coordinates = coordinates\n",
    "        self.x = coordinates[0]\n",
    "        self.y = coordinates[1]\n",
    "        self.z = coordinates[2]\n",
    "        self.velocity = velocity\n",
    "        self.vx = velocity[0]\n",
    "        self.vy = velocity[1]\n",
    "        self.vz = velocity[2]\n",
    "        self.r = self.orbit_radius()\n",
    "        self.velocity_mag = (self.vx**2 + self.vy**2 + self.vz**2)**(0.5)\n",
    "        self.position = (self.x,self.y,self.z)\n",
    "\n",
    "    def orbit_radius(self):\n",
    "        return (self.x**2+self.y**2+self.z**2)**(0.5)\n",
    "    \n",
    "    def distance(self, other_planet):\n",
    "        return ((self.x-other_planet.x)**2 + (self.y-other_planet.y)**2 + (self.z-other_planet.z)**2)**(0.5)\n",
    "    \n",
    "    def kinetic_energy(self):\n",
    "        return (.5*self.mass*((self.vx)**2 + (self.vy)**2 + (selfv.z)**2))\n",
    "    \n",
    "    def potential_energy(self, other_planet):\n",
    "        G=1\n",
    "        return G*self.mass*other_planet.mass/(self.distance(other_planet))\n",
    "        \n",
    "    def angular_momentum(self, other_planet):\n",
    "        return mass*self.distance(other_planet)*self.velocity_mag\n",
    "    \n",
    "    "
   ]
  },
  {
   "cell_type": "code",
   "execution_count": null,
   "metadata": {
    "collapsed": false
   },
   "outputs": [],
   "source": [
    "class VerletSolver():\n",
    "    def __init__(self, h, time):\n",
    "        \n",
    "        self.h = h\n",
    "        self.time = time\n",
    "        \n",
    "    def coordinate(xi,h,vi,ai):\n",
    "        return xi + h*vi + h**2*ai/2\n",
    "\n",
    "    def velocity(vi,h,a_i_1, a_i):\n",
    "        return vi + (h/2)*(a_i_1+a_i)\n",
    "\n",
    "    def acceleration(coord, dist):\n",
    "        return -4*coord*m.pi**2/(dist**3)\n",
    "    \n",
    "    def kinetic_energy(planet):\n",
    "        return (.5*planet.mass*((planet.vx)**2 + (planet.vy)**2 + (planet.vz)**2))\n",
    "    \n",
    "    def potential_energy(planet, other_planet):\n",
    "        G=1\n",
    "        return G*planet.mass*other_planet.mass/(planet.distance(other_planet))\n",
    "    \n",
    "    def angular_momentum(planet, other_planet):\n",
    "        return mass*planet.distance(other_planet)*planet.velocity_mag\n",
    "        \n",
    "        "
   ]
  },
  {
   "cell_type": "code",
   "execution_count": null,
   "metadata": {
    "collapsed": false
   },
   "outputs": [],
   "source": [
    "#position -> velocity\n",
    "\n",
    "#def positions(planet):\n",
    "#\n",
    "def Solve(planet, years, h, n, pos_coordinates, velo_vectors):\n",
    "\n",
    "    for j in range(len(pos_coordinates)):\n",
    "        \n",
    "        coord_array = pos_coordinates[j]\n",
    "        velo_array = velo_vectors[j]\n",
    "        #coord_array = np.zeros(n+1)\n",
    "        #velo_array = np.zeros(n+1)\n",
    "        coord_array[0] = planet.coordinates[j]\n",
    "        velo_array[0] = planet.velocity[j]\n",
    "\n",
    "        for i in range(n):\n",
    "            \n",
    "            #initialize variables\n",
    "            c_i = coord_array[i]\n",
    "            v_i = velo_array[i]\n",
    "\n",
    "            #use VerletSolver to calculate acceleration, then position, then velocity\n",
    "            a_i = VerletSolver.acceleration(c_i, planet.r)\n",
    "            c_i_1 = VerletSolver.coordinate(c_i,h,v_i,a_i)\n",
    "            coord_array[i+1] = c_i_1\n",
    "            a_i_1 = VerletSolver.acceleration(c_i_1, planet.r)\n",
    "            v_i_1 = VerletSolver.velocity(v_i,h,a_i_1,a_i)\n",
    "            velo_array[i+1] = v_i_1\n",
    "            \n",
    "            #update planet attributes\n",
    "            planet.coordinates[j] = c_i_1\n",
    "            planet.velocity[j] = v_i_1\n",
    "\n",
    "        \n",
    "planet_names = [\"Sun\", \"Mercury\", \"Venus\", \"Earth\", \"Mars\", \"Saturn\", \"Uranus\", \"Neptune\", \"Pluto\"]\n",
    "mass_sun = 1.99E30\n",
    "#planet_vars = [sun, mercury, earth, mars, saturn, uranus, neptune, pluto]\n",
    "earth = Planet(\"Earth\", 6.00*10**24/mass_sun,[-9.882510901700633E-01, 8.499778853173919E-02, -1.519972828171497E-04],\n",
    "              [-1.680240369278054E-03, -1.719988462359221E-02, 4.349840395398017E-07])\n",
    "#plt.plot(np.arange(n+1),coord_array)\n",
    "#print(velo_array[:])\n",
    "years = 3\n",
    "h = 1/365\n",
    "p = earth\n",
    "n = int(years/h)\n",
    "x_y_z = [np.zeros(n+1),np.zeros(n+1),np.zeros(n+1)]\n",
    "vx_vy_vz = [np.zeros(n+1),np.zeros(n+1),np.zeros(n+1)]\n",
    "x,y,z = x_y_z[0], x_y_z[1], x_y_z[2]\n",
    "\n",
    "Solve(earth, years, h, n, x_y_z, vx_vy_vz)\n",
    "\n",
    "print(x[:])\n"
   ]
  },
  {
   "cell_type": "code",
   "execution_count": null,
   "metadata": {
    "collapsed": false
   },
   "outputs": [],
   "source": [
    "plt.plot(np.arange(len(x)),x)\n",
    "plt.plot(np.arange(len(y)),y)\n",
    "plt.plot(np.arange(len(z)),z)"
   ]
  },
  {
   "cell_type": "code",
   "execution_count": null,
   "metadata": {
    "collapsed": false
   },
   "outputs": [],
   "source": [
    "fig = plt.figure()\n",
    "ax = fig.add_subplot(111, projection='3d')\n",
    "\n",
    "ax.plot(xs=x,ys=y,zs=z)\n",
    "ax.set_xlim(left=min(x),right=max(x))\n",
    "ax.set_ylim(bottom=min(y),top=max(y))\n",
    "ax.set_zlim(bottom=min(z),top=max(z))\n",
    "ax.mouse_init()\n"
   ]
  },
  {
   "cell_type": "code",
   "execution_count": null,
   "metadata": {
    "collapsed": false
   },
   "outputs": [],
   "source": [
    "fig = plt.figure()\n",
    "\n",
    "ax = fig.gca(projection='3d')\n",
    "\n",
    "ax.plot(xs=x,ys=y,zs=z)\n",
    "ax.mouse_init()\n",
    "plt.show()"
   ]
  },
  {
   "cell_type": "code",
   "execution_count": null,
   "metadata": {
    "collapsed": false
   },
   "outputs": [],
   "source": []
  },
  {
   "cell_type": "code",
   "execution_count": null,
   "metadata": {
    "collapsed": true
   },
   "outputs": [],
   "source": []
  }
 ],
 "metadata": {
  "anaconda-cloud": {},
  "kernelspec": {
   "display_name": "Python [conda root]",
   "language": "python",
   "name": "conda-root-py"
  },
  "language_info": {
   "codemirror_mode": {
    "name": "ipython",
    "version": 3
   },
   "file_extension": ".py",
   "mimetype": "text/x-python",
   "name": "python",
   "nbconvert_exporter": "python",
   "pygments_lexer": "ipython3",
   "version": "3.5.2"
  }
 },
 "nbformat": 4,
 "nbformat_minor": 1
}
