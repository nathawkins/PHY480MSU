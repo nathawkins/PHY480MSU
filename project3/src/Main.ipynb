{
 "cells": [
  {
   "cell_type": "code",
   "execution_count": 2,
   "metadata": {
    "collapsed": false
   },
   "outputs": [],
   "source": [
    "%matplotlib inline\n",
    "import matplotlib.pyplot as plt\n",
    "import numpy as np\n",
    "import math as m\n",
    "from mpl_toolkits.mplot3d import Axes3D\n",
    "from VerletSolver import VerletSolver as VS\n",
    "#from Planet import Planet"
   ]
  },
  {
   "cell_type": "code",
   "execution_count": 19,
   "metadata": {
    "collapsed": false
   },
   "outputs": [],
   "source": [
    "class Planet():\n",
    "    def __init__(self, name=\"Planet X\", mass=1, coordinates=[1,0,0], velocity=[0,0,0]):\n",
    "        self.mass = mass\n",
    "        self.name = name\n",
    "        self.coordinates = coordinates\n",
    "        self.x = coordinates[0]\n",
    "        self.y = coordinates[1]\n",
    "        self.z = coordinates[2]\n",
    "        self.velocity = velocity\n",
    "        self.vx = velocity[0]\n",
    "        self.vy = velocity[1]\n",
    "        self.vz = velocity[2]\n",
    "        self.r = self.orbit_radius()\n",
    "        self.velocity_mag = (self.vx**2 + self.vy**2 + self.vz**2)**(0.5)\n",
    "        self.position = (self.x,self.y,self.z)\n",
    "\n",
    "    def orbit_radius(self):\n",
    "        return (self.x**2+self.y**2+self.z**2)**(0.5)\n",
    "    \n",
    "    def gravitational_acceleration(self, other_planet, coord_index):\n",
    "        difference = self.coordinates[coord_index]-other_planet.coordinates[coord_index]\n",
    "        return -4*m.pi*self.mass*difference/((self.distance(other_planet))**3)\n",
    "    \n",
    "    def distance(self, other_planet):\n",
    "        return ((self.x-other_planet.x)**2 + (self.y-other_planet.y)**2 + (self.z-other_planet.z)**2)**(0.5)\n",
    "    \n",
    "    def kinetic_energy(self):\n",
    "        return (.5*self.mass*((self.vx)**2 + (self.vy)**2 + (selfv.z)**2))\n",
    "    \n",
    "    def potential_energy(self, other_planet):\n",
    "        G=1\n",
    "        return G*self.mass*other_planet.mass/(self.distance(other_planet))\n",
    "        \n",
    "    def angular_momentum(self, other_planet):\n",
    "        return mass*self.distance(other_planet)*self.velocity_mag\n",
    "    \n",
    "    "
   ]
  },
  {
   "cell_type": "code",
   "execution_count": null,
   "metadata": {
    "collapsed": false
   },
   "outputs": [],
   "source": []
  },
  {
   "cell_type": "code",
   "execution_count": 51,
   "metadata": {
    "collapsed": false
   },
   "outputs": [
    {
     "name": "stdout",
     "output_type": "stream",
     "text": [
      "[-0.98825109 -0.98810565 -0.98766018 ..., -0.9692338  -0.96572469\n",
      " -0.96192233] [ 0.08499779  0.08493776  0.08485194 ...,  0.08282901  0.08248068\n",
      "  0.0821073 ] [-0.000152   -0.00015197 -0.0001519  ..., -0.00014905 -0.00014851\n",
      " -0.00014792]\n"
     ]
    }
   ],
   "source": [
    "#position -> velocity\n",
    "\n",
    "#def positions(planet):\n",
    "#\n",
    "def plotter(x,y,z):\n",
    "    fig = plt.figure()\n",
    "    ax = fig.add_subplot(111, projection='3d')\n",
    "\n",
    "    ax.scatter(x,y,z,s=5)\n",
    "\n",
    "    ax.set_xlabel('AU x-axis')\n",
    "    ax.set_ylabel('AU y-axis')\n",
    "    ax.set_zlabel('Au z-axis')\n",
    "    \n",
    "\n",
    "def planet_iterate(planet_lst):\n",
    "    for p in planet_lst:\n",
    "        for q in planet_lst:\n",
    "            if p != q:\n",
    "                print(\"Distance from {} to {} = {}\".format(p.name, q.name, p.distance(q)))\n",
    "                \n",
    "                \n",
    "def Solve(planet, years, h, n, pos_coordinates, velo_vectors, planet_lst):\n",
    "\n",
    "    for j in range(len(pos_coordinates)):\n",
    "        \n",
    "        coord_array = pos_coordinates[j]\n",
    "        velo_array = velo_vectors[j]\n",
    "        #coord_array = np.zeros(n+1)\n",
    "        #velo_array = np.zeros(n+1)\n",
    "        coord_array[0] = planet.coordinates[j]\n",
    "        velo_array[0] = planet.velocity[j]\n",
    "\n",
    "        for i in range(n):\n",
    "            \n",
    "            #initialize variables\n",
    "            c_i = coord_array[i]\n",
    "            v_i = velo_array[i]\n",
    "\n",
    "            #use VS to calculate acceleration, then position, then velocity\n",
    "            a_i = VS.acceleration(c_i, planet.r)\n",
    "            \n",
    "            \n",
    "            for p in planet_lst:\n",
    "                if p.name != planet.name:\n",
    "                    try:\n",
    "                        a_i += p.gravitational_acceleration(p,j)\n",
    "                    except ZeroDivisionError:\n",
    "                        pass\n",
    "                    \n",
    "            c_i_1 = VS.coordinate(c_i,h,v_i,a_i)\n",
    "            coord_array[i+1] = c_i_1\n",
    "            a_i_1 = VS.acceleration(c_i_1, planet.r)\n",
    "            v_i_1 = VS.velocity(v_i,h,a_i_1,a_i)\n",
    "            velo_array[i+1] = v_i_1\n",
    "            \n",
    "            #update planet attributes\n",
    "            planet.coordinates[j] = c_i_1\n",
    "            planet.velocity[j] = v_i_1\n",
    "\n",
    "        \n",
    "mass_sun = 1.99E30\n",
    "earth = Planet(\"Earth\", 6.00*10**24/mass_sun,[-9.882510901700633E-01, 8.499778853173919E-02, -1.519972828171497E-04],\n",
    "              [-1.680240369278054E-03, -1.719988462359221E-02, 4.349840395398017E-07])\n",
    "sun = Planet(\"Sun\", 1.00, [0.0,0.0,0.0],[0.0,0.0,0.0])\n",
    "mercury = Planet(\"Mercury\",1.65E-07,[2.80E-01,1.73E-01,-1.18E-02],[-2.01E-02,2.53E-02,3.91E-03])\n",
    "venus = Planet(\"Venus\", 2.45E-06, [-7.02E-02, 1.36E-01, 4.24E-02], [-3.81E-03, -1.99E-02, -5.40E-05])\n",
    "earth = Planet(\"Earth\", 3.0E-06,[-9.882510901700633E-01, 8.499778853173919E-02, -1.519972828171497E-04],\n",
    "              [-1.680240369278054E-03, -1.719988462359221E-02, 4.349840395398017E-07])\n",
    "mars = Planet(\"Mars\", 3.3E-07, [7.78E-01, 1.28, 7.56E-03], [-1.14E-02, 8.47E-03, 4.58E-04])\n",
    "jupiter = Planet('Jupiter', 0.00095, [-5.23, -1.53, 1.23E-01,2.02E-3, -6.88E-03, -1.67E-05])\n",
    "saturn = Planet(\"Saturn\", 0.000275, [-1.48,-9.93, 2.32E-01], [5.212E-03, -8.39E-04, -1.93E-04])\n",
    "uranus = Planet(\"Uranus\", 0.000044, [1.82E01, 8.08, -2.06E-01], [-1.62E-03, 3.41E-03, 3.38E-05])\n",
    "neptune = Planet(\"Neptune\", 0.0000515, [2.84E01, -9.47, -4.60E-01],[9.711E-04, 2.997E-03, -8.38E-05])\n",
    "pluto = Planet(\"Pluto\", 6.55E-09, [9.89, -3.18E01, 5.396E-01], [3.06E-03, 2.906E-04, -9.09E-04])\n",
    "planet_vars = [sun, mercury, earth, mars, jupiter, saturn, uranus, neptune, pluto]\n",
    "planet_vars = [earth, jupiter]\n",
    "\n",
    "position_arrays = []\n",
    "years = 3\n",
    "h = 1/365\n",
    "p = earth\n",
    "n = int(years/h)\n",
    "x_y_z = [np.zeros(n+1),np.zeros(n+1),np.zeros(n+1)]\n",
    "vx_vy_vz = [np.zeros(n+1),np.zeros(n+1),np.zeros(n+1)]\n",
    "x,y,z = x_y_z[0], x_y_z[1], x_y_z[2]\n",
    "\n",
    "Solve(earth, years, h, n, x_y_z, vx_vy_vz, planet_vars)\n",
    "\n",
    "print(x[:],y[:],z[:])"
   ]
  },
  {
   "cell_type": "code",
   "execution_count": 52,
   "metadata": {
    "collapsed": false
   },
   "outputs": [
    {
     "name": "stdout",
     "output_type": "stream",
     "text": [
      "[  1.44116563e+00   1.28123222e+00   1.13904743e+00 ...,   1.06870454e-93\n",
      "   9.50105019e-94   8.44667082e-94]\n",
      "[ nan  nan  nan ...,  nan  nan  nan]\n"
     ]
    },
    {
     "name": "stderr",
     "output_type": "stream",
     "text": [
      "C:\\Anaconda3\\lib\\site-packages\\ipykernel\\__main__.py:22: RuntimeWarning: invalid value encountered in double_scalars\n"
     ]
    }
   ],
   "source": [
    "import copy\n",
    "position_arrays = {}\n",
    "years = 5\n",
    "h = 1/365\n",
    "n = int(years/h)\n",
    "\n",
    "for p in planet_vars:\n",
    "    blank_lst = [np.zeros(n+1),np.zeros(n+1),np.zeros(n+1)]\n",
    "    x_y_z = copy.copy(blank_lst)\n",
    "\n",
    "    vx_vy_vz = copy.copy(blank_lst)\n",
    "    x,y,z = x_y_z[0], x_y_z[1], x_y_z[2]\n",
    "    Solve(p, years, h, n, x_y_z, vx_vy_vz, planet_vars)\n",
    "    print(x_y_z[0])\n",
    "\n",
    "    position_arrays[p] = [x,y,z]\n",
    "    \n",
    "    "
   ]
  },
  {
   "cell_type": "code",
   "execution_count": 45,
   "metadata": {
    "collapsed": false
   },
   "outputs": [
    {
     "data": {
      "text/plain": [
       "dict_values([[array([  1.44116563e+00,   1.28123222e+00,   1.13904743e+00, ...,\n",
       "         1.06870454e-93,   9.50105019e-94,   8.44667082e-94]), array([ -1.40833444e-01,  -1.25204448e-01,  -1.11309880e-01, ...,\n",
       "        -1.04435839e-94,  -9.28460679e-95,  -8.25424724e-95]), array([  2.22332389e-04,   1.97659045e-04,   1.75723826e-04, ...,\n",
       "         1.64871844e-97,   1.46575185e-97,   1.30308999e-97])], [array([ nan,  nan,  nan, ...,  nan,  nan,  nan]), array([ nan,  nan,  nan, ...,  nan,  nan,  nan]), array([ nan,  nan,  nan, ...,  nan,  nan,  nan])]])"
      ]
     },
     "execution_count": 45,
     "metadata": {},
     "output_type": "execute_result"
    }
   ],
   "source": [
    "position_arrays.values()"
   ]
  },
  {
   "cell_type": "code",
   "execution_count": 7,
   "metadata": {
    "collapsed": false
   },
   "outputs": [
    {
     "data": {
      "image/png": "[encoded data removed]",
      "text/plain": [
       "<matplotlib.figure.Figure at 0x233573c26a0>"
      ]
     },
     "metadata": {},
     "output_type": "display_data"
    }
   ],
   "source": [
    "fig = plt.figure()\n",
    "ax = fig.add_subplot(111, projection='3d')\n",
    "\n",
    "ax.scatter(xs=x,ys=y,zs=z)\n",
    "ax.set_xlim(left=-1, right=1)\n",
    "ax.set_ylim(bottom=-.5,top=.5)\n",
    "ax.set_zlim(bottom=-.00005,top=.00005)\n",
    "ax.mouse_init()\n",
    "\n",
    "#ax.view_init(45, 45)\n",
    "#for angle in range(0, 360):\n",
    "#    ax.view_init(30, angle)\n",
    "#    plt.draw()\n",
    "#    plt.pause(.001)"
   ]
  },
  {
   "cell_type": "code",
   "execution_count": 9,
   "metadata": {
    "collapsed": false,
    "scrolled": true
   },
   "outputs": [
    {
     "data": {
      "image/png": "[encoded data removed]",
      "text/plain": [
       "<matplotlib.figure.Figure at 0x2335ad9e0f0>"
      ]
     },
     "metadata": {},
     "output_type": "display_data"
    }
   ],
   "source": [
    "fig = plt.figure()\n",
    "\n",
    "ax = fig.gca(projection='3d')\n",
    "\n",
    "ax.plot(xs=x,ys=y)\n",
    "ax.mouse_init()\n",
    "ax.set_xlim(left=-1, right=1)\n",
    "ax.set_ylim(bottom=-.1,top=.1)\n",
    "ax.set_zlim(bottom=-.00005,top=.00005)\n",
    "\n",
    "plt.show()"
   ]
  },
  {
   "cell_type": "code",
   "execution_count": null,
   "metadata": {
    "collapsed": false
   },
   "outputs": [],
   "source": []
  },
  {
   "cell_type": "code",
   "execution_count": null,
   "metadata": {
    "collapsed": true
   },
   "outputs": [],
   "source": []
  }
 ],
 "metadata": {
  "anaconda-cloud": {},
  "kernelspec": {
   "display_name": "Python 3",
   "language": "python",
   "name": "python3"
  },
  "language_info": {
   "codemirror_mode": {
    "name": "ipython",
    "version": 3
   },
   "file_extension": ".py",
   "mimetype": "text/x-python",
   "name": "python",
   "nbconvert_exporter": "python",
   "pygments_lexer": "ipython3",
   "version": "3.5.2"
  }
 },
 "nbformat": 4,
 "nbformat_minor": 1
}
